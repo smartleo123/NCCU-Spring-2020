{
 "cells": [
  {
   "cell_type": "code",
   "execution_count": 1,
   "metadata": {},
   "outputs": [],
   "source": [
    "%matplotlib inline\n",
    "\n",
    "import numpy as np\n",
    "import matplotlib.pyplot as plt\n"
   ]
  },
  {
   "cell_type": "code",
   "execution_count": 2,
   "metadata": {},
   "outputs": [],
   "source": [
    "import tensorflow as tf"
   ]
  },
  {
   "cell_type": "code",
   "execution_count": 3,
   "metadata": {},
   "outputs": [],
   "source": [
    "from tensorflow.keras.datasets import fashion_mnist"
   ]
  },
  {
   "cell_type": "code",
   "execution_count": 4,
   "metadata": {},
   "outputs": [],
   "source": [
    "(x_train, y_train), (x_test, y_test) = fashion_mnist.load_data()"
   ]
  },
  {
   "cell_type": "code",
   "execution_count": 5,
   "metadata": {},
   "outputs": [
    {
     "data": {
      "text/plain": [
       "60000"
      ]
     },
     "execution_count": 5,
     "metadata": {},
     "output_type": "execute_result"
    }
   ],
   "source": [
    "len(x_train)"
   ]
  },
  {
   "cell_type": "code",
   "execution_count": 6,
   "metadata": {},
   "outputs": [
    {
     "data": {
      "text/plain": [
       "10000"
      ]
     },
     "execution_count": 6,
     "metadata": {},
     "output_type": "execute_result"
    }
   ],
   "source": [
    "len(x_test)"
   ]
  },
  {
   "cell_type": "code",
   "execution_count": 7,
   "metadata": {},
   "outputs": [],
   "source": [
    "class_names = ['T-shirt/top', 'Trouser', 'Pullover', 'Dress', 'Coat',\n",
    "               'Sandal', 'Shirt', 'Sneaker', 'Bag', 'Ankle boot']"
   ]
  },
  {
   "cell_type": "code",
   "execution_count": 8,
   "metadata": {},
   "outputs": [
    {
     "data": {
      "text/plain": [
       "array([[  0,   0,   0,   0,   0,   0,   0,   0,   0,   0,   0,   0,   0,\n",
       "         53,  70,  30,   0,   0,   0,   0,   0,   0,   0,   0,   0,   0,\n",
       "          0,   0],\n",
       "       [  0,   0,   0,   0,   0,   0,   0,   0,   0,   0,  83, 223, 220,\n",
       "        231, 233, 231, 218, 191,  33,   0,   0,   1,   0,   0,   0,   0,\n",
       "          0,   0],\n",
       "       [  0,   0,   0,   0,   0,   0,   0,   0,   0, 142, 248, 228, 215,\n",
       "        217, 219, 219, 220, 235, 234, 107,   0,   0,   1,   0,   0,   0,\n",
       "          0,   0],\n",
       "       [  0,   0,   0,   0,   0,   0,   3,   0,  69, 245, 221, 229, 213,\n",
       "        219, 206, 210, 217, 222, 218, 243,  64,   0,   4,   0,   0,   0,\n",
       "          0,   0],\n",
       "       [  0,   0,   0,   0,   0,   0,   0,   0, 116, 231, 224, 230, 222,\n",
       "        217, 222, 224, 215, 215, 222, 219,   0,   0,   0,   0,   0,   0,\n",
       "          0,   0],\n",
       "       [  0,   0,   0,   0,   1,   0,   0, 193, 238, 216, 222, 218, 213,\n",
       "        211, 208, 210, 217, 224, 217, 222, 169,   0,   0,   0,   0,   0,\n",
       "          0,   0],\n",
       "       [  0,   0,   0,   0,   2,   0,  66, 230, 210, 217, 217, 212, 214,\n",
       "        224, 221, 216, 212, 214, 218, 212, 236, 115,   0,   2,   0,   0,\n",
       "          0,   0],\n",
       "       [  0,   0,   0,   0,   0,   0, 167, 227, 212, 216, 222, 222, 220,\n",
       "        219, 217, 216, 216, 219, 221, 217, 221, 188,   0,   0,   0,   0,\n",
       "          0,   0],\n",
       "       [  0,   0,   0,   0,   0,   0, 220, 223, 219, 217, 215, 216, 216,\n",
       "        216, 215, 218, 220, 216, 218, 213, 216, 193,   0,   0,   0,   0,\n",
       "          0,   0],\n",
       "       [  0,   0,   0,   0,   0,   0, 208, 223, 227, 216, 215, 214, 215,\n",
       "        211, 213, 217, 211, 214, 209, 218, 208, 212,  20,   0,   0,   0,\n",
       "          0,   0],\n",
       "       [  0,   0,   0,   0,   0,  29, 222, 218, 234, 221, 211, 211, 212,\n",
       "        207, 211, 214, 210, 210, 207, 233, 207, 222,  63,   0,   0,   0,\n",
       "          0,   0],\n",
       "       [  0,   0,   0,   0,   0,  74, 228, 217, 236, 222, 209, 209, 210,\n",
       "        209, 218, 211, 210, 206, 211, 236, 207, 224, 128,   0,   0,   0,\n",
       "          0,   0],\n",
       "       [  0,   0,   0,   0,   0, 128, 228, 220, 239, 219, 214, 210, 215,\n",
       "        205, 201, 215, 211, 209, 211, 243, 215, 222, 164,   0,   0,   0,\n",
       "          0,   0],\n",
       "       [  0,   0,   0,   0,   0, 163, 224, 220, 242, 221, 213, 211, 215,\n",
       "        210, 212, 210, 213, 211, 212, 247, 220, 220, 205,   0,   0,   0,\n",
       "          0,   0],\n",
       "       [  0,   0,   0,   0,   0, 193, 222, 218, 246, 229, 212, 211, 217,\n",
       "        212, 211, 211, 212, 213, 212, 251, 219, 215, 236,   0,   0,   0,\n",
       "          0,   0],\n",
       "       [  0,   0,   0,   0,   0, 220, 219, 216, 242, 231, 216, 211, 219,\n",
       "        209, 210, 209, 208, 213, 216, 222, 223, 214, 250,   0,   0,   0,\n",
       "          0,   0],\n",
       "       [  0,   0,   0,   0,   0, 238, 216, 219, 242, 221, 220, 214, 222,\n",
       "        213, 216, 213, 210, 212, 231, 113, 227, 217, 250,  25,   0,   0,\n",
       "          0,   0],\n",
       "       [  0,   0,   0,   0,   0, 248, 211, 236, 180, 218, 225, 212, 219,\n",
       "        214, 214, 214, 210, 204, 241, 114, 207, 220, 245,  55,   0,   0,\n",
       "          0,   0],\n",
       "       [  0,   0,   0,   0,   5, 252, 214, 225, 150, 234, 222, 215, 215,\n",
       "        219, 219, 215, 212, 208, 230, 163, 197, 220, 243,  78,   0,   0,\n",
       "          0,   0],\n",
       "       [  0,   0,   0,   0,  27, 250, 217, 200, 181, 232, 214, 218, 221,\n",
       "        204, 207, 216, 215, 208, 212, 208, 215, 217, 241,  91,   0,   0,\n",
       "          0,   0],\n",
       "       [  0,   0,   0,   0,  48, 251, 219, 189, 205, 229, 224, 216, 220,\n",
       "        221, 216, 215, 214, 214, 211, 210, 223, 210, 235, 100,   0,   0,\n",
       "          0,   0],\n",
       "       [  0,   0,   0,   0,  69, 254, 214, 226, 228, 216, 221, 219, 217,\n",
       "        219, 218, 216, 215, 215, 210, 211, 230, 210, 231, 116,   0,   0,\n",
       "          0,   0],\n",
       "       [  0,   0,   0,   0,  96, 250, 205, 243, 223, 215, 222, 218, 215,\n",
       "        219, 220, 216, 217, 215, 212, 208, 232, 221, 225, 133,   0,   0,\n",
       "          0,   0],\n",
       "       [  0,   0,   0,   0, 106, 246, 207, 239, 222, 216, 221, 219, 218,\n",
       "        220, 220, 214, 215, 213, 211, 208, 230, 225, 224, 144,   0,   0,\n",
       "          0,   0],\n",
       "       [  0,   0,   0,   0, 135, 222, 216, 234, 222, 216, 217, 218, 219,\n",
       "        226, 224, 217, 218, 216, 214, 210, 231, 226, 226, 144,   0,   0,\n",
       "          0,   0],\n",
       "       [  0,   0,   0,   0, 174, 220, 211, 228, 224, 214, 208, 212, 212,\n",
       "        219, 221, 214, 214, 209, 207, 208, 224, 224, 212, 136,   0,   0,\n",
       "          0,   0],\n",
       "       [  0,   0,   0,   0, 198, 223, 240, 194, 255, 255, 255, 255, 245,\n",
       "        233, 242, 248, 250, 252, 252, 255, 254, 227, 255, 198,   0,   0,\n",
       "          0,   0],\n",
       "       [  0,   0,   0,   0,   0,  24,   8,   0,  32,  73, 101, 114, 148,\n",
       "        172, 164, 142, 130, 114, 108,  66,   1, 139, 131,  58,   0,   0,\n",
       "          0,   0]], dtype=uint8)"
      ]
     },
     "execution_count": 8,
     "metadata": {},
     "output_type": "execute_result"
    }
   ],
   "source": [
    "n=2000\n",
    "x_train[n]"
   ]
  },
  {
   "cell_type": "code",
   "execution_count": 9,
   "metadata": {},
   "outputs": [
    {
     "data": {
      "text/plain": [
       "4"
      ]
     },
     "execution_count": 9,
     "metadata": {},
     "output_type": "execute_result"
    }
   ],
   "source": [
    "y_train[n]"
   ]
  },
  {
   "cell_type": "code",
   "execution_count": 10,
   "metadata": {},
   "outputs": [
    {
     "name": "stdout",
     "output_type": "stream",
     "text": [
      "This is: Trouser\n"
     ]
    },
    {
     "data": {
      "image/png": "[encoded data removed]",
      "text/plain": [
       "<Figure size 432x288 with 1 Axes>"
      ]
     },
     "metadata": {
      "needs_background": "light"
     },
     "output_type": "display_data"
    }
   ],
   "source": [
    "n = 1000\n",
    "print('This is:', class_names[y_train[n]])\n",
    "plt.imshow(x_train[n], cmap='Blues');"
   ]
  },
  {
   "cell_type": "code",
   "execution_count": 11,
   "metadata": {},
   "outputs": [
    {
     "data": {
      "image/png": "[encoded data removed]",
      "text/plain": [
       "<Figure size 432x288 with 5 Axes>"
      ]
     },
     "metadata": {},
     "output_type": "display_data"
    }
   ],
   "source": [
    "pick = np.random.choice(60000, 5, replace=False)\n",
    "\n",
    "for i in range(5):\n",
    "    n = pick[i]\n",
    "    ax = plt.subplot(151+i)\n",
    "    ax.set_xticks([])\n",
    "    ax.set_yticks([])\n",
    "    ax.set_title(class_names[y_train[n]], fontsize=10)\n",
    "    plt.imshow(x_train[n], cmap='Blues')"
   ]
  },
  {
   "cell_type": "code",
   "execution_count": 12,
   "metadata": {},
   "outputs": [
    {
     "data": {
      "text/plain": [
       "(60000, 28, 28)"
      ]
     },
     "execution_count": 12,
     "metadata": {},
     "output_type": "execute_result"
    }
   ],
   "source": [
    "x_train.shape"
   ]
  },
  {
   "cell_type": "code",
   "execution_count": 13,
   "metadata": {},
   "outputs": [
    {
     "data": {
      "text/plain": [
       "(10000, 28, 28)"
      ]
     },
     "execution_count": 13,
     "metadata": {},
     "output_type": "execute_result"
    }
   ],
   "source": [
    "x_test.shape"
   ]
  },
  {
   "cell_type": "code",
   "execution_count": 14,
   "metadata": {},
   "outputs": [
    {
     "data": {
      "text/plain": [
       "array([[  0,   0,   0,   0,   0,   0,   0,   0,   0,   0,   0, 113, 140,\n",
       "        121, 127, 131, 141, 181,   0,   0,   0,   0,   0,   0,   0,   0,\n",
       "          0,   0],\n",
       "       [  0,   0,   0,   0,   0,   0,   0,   0,   0,   0,   0, 255, 254,\n",
       "        255, 255, 255, 244, 255, 107,   0,   0,   0,   0,   0,   0,   0,\n",
       "          0,   0],\n",
       "       [  0,   0,   0,   0,   0,   0,   0,   0,   0,   0,  90, 253, 230,\n",
       "        232, 231, 230, 233, 243, 206,   0,   0,   0,   0,   0,   0,   0,\n",
       "          0,   0],\n",
       "       [  0,   0,   0,   0,   0,   0,   0,   0,   0,   0, 183, 253, 234,\n",
       "        239, 238, 238, 236, 241, 255,   0,   0,   0,   0,   0,   0,   0,\n",
       "          0,   0],\n",
       "       [  0,   0,   0,   0,   0,   0,   0,   0,   0,   0, 242, 244, 233,\n",
       "        238, 237, 237, 238, 234, 255,  29,   0,   0,   0,   0,   0,   0,\n",
       "          0,   0],\n",
       "       [  0,   0,   0,   0,   0,   0,   0,   0,   0,   0, 255, 238, 237,\n",
       "        238, 237, 236, 238, 229, 255,  78,   0,   0,   0,   0,   0,   0,\n",
       "          0,   0],\n",
       "       [  0,   0,   0,   0,   0,   0,   0,   0,   0,  20, 255, 236, 238,\n",
       "        237, 233, 238, 237, 227, 255, 115,   0,   0,   0,   0,   0,   0,\n",
       "          0,   0],\n",
       "       [  0,   0,   0,   0,   0,   0,   0,   0,   0,  52, 255, 233, 235,\n",
       "        239, 255, 243, 237, 231, 255, 146,   0,   0,   0,   0,   0,   0,\n",
       "          0,   0],\n",
       "       [  0,   0,   0,   0,   0,   0,   0,   0,   0,  63, 255, 235, 233,\n",
       "        255, 156, 245, 243, 232, 255, 172,   0,   0,   0,   0,   0,   0,\n",
       "          0,   0],\n",
       "       [  0,   0,   0,   0,   0,   0,   0,   0,   0,  50, 255, 235, 231,\n",
       "        255,  37, 215, 255, 226, 255, 171,   0,   0,   0,   0,   0,   0,\n",
       "          0,   0],\n",
       "       [  0,   0,   0,   0,   0,   0,   0,   0,   0,   9, 255, 235, 234,\n",
       "        255,   0, 169, 255, 233, 255, 149,   0,   0,   0,   0,   0,   0,\n",
       "          0,   0],\n",
       "       [  0,   0,   0,   0,   0,   0,   0,   0,   0,   0, 255, 238, 235,\n",
       "        255,   0, 100, 255, 231, 255, 110,   0,   0,   0,   0,   0,   0,\n",
       "          0,   0],\n",
       "       [  0,   0,   0,   0,   0,   0,   0,   0,   0,   0, 239, 241, 240,\n",
       "        245,   0,  45, 255, 231, 255,  80,   0,   0,   0,   0,   0,   0,\n",
       "          0,   0],\n",
       "       [  0,   0,   0,   0,   0,   0,   0,   0,   0,   0, 222, 246, 245,\n",
       "        215,   0,  21, 255, 232, 255,  52,   0,   0,   0,   0,   0,   0,\n",
       "          0,   0],\n",
       "       [  0,   0,   0,   0,   0,   0,   0,   0,   0,   0, 194, 247, 246,\n",
       "        202,   0,   0, 255, 236, 255,   5,   0,   0,   0,   0,   0,   0,\n",
       "          0,   0],\n",
       "       [  0,   0,   0,   0,   0,   0,   0,   0,   0,   0, 153, 249, 247,\n",
       "        191,   0,   0, 255, 241, 229,   0,   0,   0,   0,   0,   0,   0,\n",
       "          0,   0],\n",
       "       [  0,   0,   0,   0,   0,   0,   0,   0,   0,   0, 137, 251, 245,\n",
       "        187,   0,   0, 255, 243, 226,   0,   0,   0,   0,   0,   0,   0,\n",
       "          0,   0],\n",
       "       [  0,   0,   0,   0,   0,   0,   0,   0,   0,   0, 140, 248, 248,\n",
       "        181,   0,   0, 225, 248, 225,   0,   0,   0,   0,   0,   0,   0,\n",
       "          0,   0],\n",
       "       [  0,   0,   0,   0,   0,   0,   0,   0,   0,   0, 143, 251, 248,\n",
       "        125,   0,   0, 177, 252, 227,   0,   0,   0,   0,   0,   0,   0,\n",
       "          0,   0],\n",
       "       [  0,   0,   0,   0,   0,   0,   0,   0,   0,   0, 151, 249, 249,\n",
       "         92,   0,   0, 175, 252, 238,  14,   0,   0,   0,   0,   0,   0,\n",
       "          0,   0],\n",
       "       [  0,   0,   0,   0,   0,   0,   0,   0,   0,   0, 157, 249, 250,\n",
       "         91,   0,   0, 186, 252, 244,  34,   0,   0,   0,   0,   0,   0,\n",
       "          0,   0],\n",
       "       [  0,   0,   0,   0,   0,   0,   0,   0,   0,   0, 149, 251, 251,\n",
       "         85,   0,   0, 183, 250, 243,  35,   0,   0,   0,   0,   0,   0,\n",
       "          0,   0],\n",
       "       [  0,   0,   0,   0,   0,   0,   0,   0,   0,   0, 117, 252, 251,\n",
       "         83,   0,   0, 169, 253, 239,  14,   0,   0,   0,   0,   0,   0,\n",
       "          0,   0],\n",
       "       [  0,   0,   0,   0,   0,   0,   0,   0,   0,   0,  84, 253, 248,\n",
       "         57,   0,   0, 133, 255, 226,   0,   0,   0,   0,   0,   0,   0,\n",
       "          0,   0],\n",
       "       [  0,   0,   0,   0,   0,   0,   0,   0,   0,   0,  66, 252, 240,\n",
       "         31,   0,   0,  91, 255, 214,   0,   0,   0,   0,   0,   0,   0,\n",
       "          0,   0],\n",
       "       [  0,   0,   0,   0,   0,   0,   0,   0,   0,   0,  29, 245, 226,\n",
       "          0,   0,   0,  36, 253, 204,   0,   0,   0,   0,   0,   0,   0,\n",
       "          0,   0],\n",
       "       [  0,   0,   0,   0,   0,   0,   0,   0,   0,   0,   0, 249, 230,\n",
       "          0,   0,   0,  19, 255, 200,   0,   0,   0,   0,   0,   0,   0,\n",
       "          0,   0],\n",
       "       [  0,   0,   0,   0,   0,   0,   0,   0,   0,   0,   0, 139, 130,\n",
       "          0,   0,   0,   0, 172, 129,   0,   0,   0,   0,   0,   0,   0,\n",
       "          0,   0]], dtype=uint8)"
      ]
     },
     "execution_count": 14,
     "metadata": {},
     "output_type": "execute_result"
    }
   ],
   "source": [
    "x_train[n]"
   ]
  },
  {
   "cell_type": "code",
   "execution_count": 15,
   "metadata": {},
   "outputs": [
    {
     "name": "stdout",
     "output_type": "stream",
     "text": [
      "{0, 1, 2, 3, 4, 5, 6, 7, 8, 9}\n"
     ]
    }
   ],
   "source": [
    "print(set(y_train))"
   ]
  },
  {
   "cell_type": "code",
   "execution_count": 16,
   "metadata": {},
   "outputs": [],
   "source": [
    "x_train = x_train/255\n",
    "x_test = x_test/255\n",
    "x_train = x_train.reshape(60000, 784)\n",
    "x_test = x_test.reshape(10000, 784)"
   ]
  },
  {
   "cell_type": "code",
   "execution_count": 17,
   "metadata": {},
   "outputs": [],
   "source": [
    "from tensorflow.keras.utils import to_categorical"
   ]
  },
  {
   "cell_type": "code",
   "execution_count": 18,
   "metadata": {},
   "outputs": [],
   "source": [
    "y_train = to_categorical(y_train, 10)\n",
    "y_test = to_categorical(y_test, 10)"
   ]
  },
  {
   "cell_type": "code",
   "execution_count": 19,
   "metadata": {},
   "outputs": [
    {
     "data": {
      "text/plain": [
       "array([0., 0., 0., 0., 0., 0., 0., 0., 0., 1.], dtype=float32)"
      ]
     },
     "execution_count": 19,
     "metadata": {},
     "output_type": "execute_result"
    }
   ],
   "source": [
    "y_train[4377]"
   ]
  },
  {
   "cell_type": "code",
   "execution_count": 20,
   "metadata": {},
   "outputs": [],
   "source": [
    "from tensorflow.keras.models import Sequential\n",
    "from tensorflow.keras.layers import Dense\n",
    "from tensorflow.keras.optimizers import SGD"
   ]
  },
  {
   "cell_type": "code",
   "execution_count": 21,
   "metadata": {},
   "outputs": [],
   "source": [
    "model = Sequential()\n",
    "model.add(Dense(500, input_dim=784, activation='relu'))\n",
    "model.add(Dense(500, activation='relu'))\n",
    "model.add(Dense(500, activation='relu'))\n",
    "model.add(Dense(10, activation='softmax'))\n"
   ]
  },
  {
   "cell_type": "code",
   "execution_count": 22,
   "metadata": {},
   "outputs": [],
   "source": [
    "model.compile(loss='mse', optimizer=SGD(lr=0.087), metrics=['accuracy'])"
   ]
  },
  {
   "cell_type": "code",
   "execution_count": 23,
   "metadata": {},
   "outputs": [
    {
     "name": "stdout",
     "output_type": "stream",
     "text": [
      "Model: \"sequential\"\n",
      "_________________________________________________________________\n",
      "Layer (type)                 Output Shape              Param #   \n",
      "=================================================================\n",
      "dense (Dense)                (None, 500)               392500    \n",
      "_________________________________________________________________\n",
      "dense_1 (Dense)              (None, 500)               250500    \n",
      "_________________________________________________________________\n",
      "dense_2 (Dense)              (None, 500)               250500    \n",
      "_________________________________________________________________\n",
      "dense_3 (Dense)              (None, 10)                5010      \n",
      "=================================================================\n",
      "Total params: 898,510\n",
      "Trainable params: 898,510\n",
      "Non-trainable params: 0\n",
      "_________________________________________________________________\n"
     ]
    }
   ],
   "source": [
    "model.summary()"
   ]
  },
  {
   "cell_type": "code",
   "execution_count": 24,
   "metadata": {},
   "outputs": [
    {
     "name": "stdout",
     "output_type": "stream",
     "text": [
      "Train on 60000 samples\n",
      "Epoch 1/10\n",
      "60000/60000 [==============================] - 7s 115us/sample - loss: 0.0415 - accuracy: 0.7207\n",
      "Epoch 2/10\n",
      "60000/60000 [==============================] - 7s 111us/sample - loss: 0.0258 - accuracy: 0.8260\n",
      "Epoch 3/10\n",
      "60000/60000 [==============================] - 6s 106us/sample - loss: 0.0231 - accuracy: 0.8426\n",
      "Epoch 4/10\n",
      "60000/60000 [==============================] - 6s 105us/sample - loss: 0.0216 - accuracy: 0.8538\n",
      "Epoch 5/10\n",
      "60000/60000 [==============================] - 6s 106us/sample - loss: 0.0206 - accuracy: 0.8609\n",
      "Epoch 6/10\n",
      "60000/60000 [==============================] - 7s 108us/sample - loss: 0.0198 - accuracy: 0.8668\n",
      "Epoch 7/10\n",
      "60000/60000 [==============================] - 7s 111us/sample - loss: 0.0190 - accuracy: 0.8726\n",
      "Epoch 8/10\n",
      "60000/60000 [==============================] - 7s 111us/sample - loss: 0.0185 - accuracy: 0.8760\n",
      "Epoch 9/10\n",
      "60000/60000 [==============================] - 7s 115us/sample - loss: 0.0179 - accuracy: 0.8788\n",
      "Epoch 10/10\n",
      "60000/60000 [==============================] - 6s 107us/sample - loss: 0.0174 - accuracy: 0.8826\n"
     ]
    },
    {
     "data": {
      "text/plain": [
       "<tensorflow.python.keras.callbacks.History at 0x1c5d479f288>"
      ]
     },
     "execution_count": 24,
     "metadata": {},
     "output_type": "execute_result"
    }
   ],
   "source": [
    "model.fit(x_train, y_train, batch_size=25, epochs=10)"
   ]
  },
  {
   "cell_type": "code",
   "execution_count": 25,
   "metadata": {},
   "outputs": [
    {
     "name": "stdout",
     "output_type": "stream",
     "text": [
      "the prediction is: Pullover\n"
     ]
    },
    {
     "data": {
      "text/plain": [
       "<matplotlib.image.AxesImage at 0x1c5b41a10c8>"
      ]
     },
     "execution_count": 25,
     "metadata": {},
     "output_type": "execute_result"
    },
    {
     "data": {
      "image/png": "[encoded data removed]",
      "text/plain": [
       "<Figure size 432x288 with 1 Axes>"
      ]
     },
     "metadata": {
      "needs_background": "light"
     },
     "output_type": "display_data"
    }
   ],
   "source": [
    "result = model.predict_classes(x_test)\n",
    "n = 2500\n",
    "print('the prediction is:', class_names[result[n]])\n",
    "\n",
    "plt.imshow(x_test[n].reshape(28,28), cmap='Greys')"
   ]
  },
  {
   "cell_type": "code",
   "execution_count": null,
   "metadata": {},
   "outputs": [],
   "source": []
  }
 ],
 "metadata": {
  "kernelspec": {
   "display_name": "Python 3",
   "language": "python",
   "name": "python3"
  },
  "language_info": {
   "codemirror_mode": {
    "name": "ipython",
    "version": 3
   },
   "file_extension": ".py",
   "mimetype": "text/x-python",
   "name": "python",
   "nbconvert_exporter": "python",
   "pygments_lexer": "ipython3",
   "version": "3.7.6"
  }
 },
 "nbformat": 4,
 "nbformat_minor": 4
}
