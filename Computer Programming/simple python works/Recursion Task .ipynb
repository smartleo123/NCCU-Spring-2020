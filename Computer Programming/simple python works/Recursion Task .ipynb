{
 "cells": [
  {
   "cell_type": "markdown",
   "metadata": {},
   "source": [
    "# Simple trials on practicing recursion method"
   ]
  },
  {
   "cell_type": "code",
   "execution_count": 1,
   "metadata": {},
   "outputs": [
    {
     "name": "stdout",
     "output_type": "stream",
     "text": [
      "input num1：18\n",
      "input num2：65\n",
      "gcd:  1\n",
      "lcm:  1170\n"
     ]
    }
   ],
   "source": [
    "# calculate lcm and gcd \n",
    "def gcd(m, n):\n",
    "    if n == 0:\n",
    "        return m\n",
    "    else:\n",
    "        return gcd(n, m%n)\n",
    "    \n",
    "def lcm(m, n):\n",
    "    return (m * n) // gcd(m, n)\n",
    "\n",
    "m = int(input(\"input num1：\"))\n",
    "n = int(input(\"input num2：\"))\n",
    "print(\"gcd: \", gcd(m, n))\n",
    "print(\"lcm: \", lcm(m, n))"
   ]
  },
  {
   "cell_type": "code",
   "execution_count": 2,
   "metadata": {},
   "outputs": [
    {
     "name": "stdout",
     "output_type": "stream",
     "text": [
      "please input any number you want: 12\n",
      "479001600\n"
     ]
    }
   ],
   "source": [
    "# calculate factorial\n",
    "\n",
    "def factorial_loop (n):\n",
    "    factor = 1\n",
    "    for i in range(1,n+1):\n",
    "        factor *= i\n",
    "    return factor\n",
    "\n",
    "num = int(input(\"please input any number you want: \"))\n",
    "print(factorial_loop(num))"
   ]
  },
  {
   "cell_type": "code",
   "execution_count": 3,
   "metadata": {},
   "outputs": [
    {
     "name": "stdout",
     "output_type": "stream",
     "text": [
      "please input any number you want: 20\n",
      "6765\n"
     ]
    }
   ],
   "source": [
    "# calculate fibonacci number\n",
    "def fibonacci(n):\n",
    "    if n == 0:\n",
    "        return 0\n",
    "    elif n == 1:\n",
    "        return 1\n",
    "    else:\n",
    "        return fibonacci(n-1) + fibonacci(n-2)\n",
    "    \n",
    "num = int(input(\"please input any number you want: \"))\n",
    "print(fibonacci(num))    "
   ]
  },
  {
   "cell_type": "code",
   "execution_count": null,
   "metadata": {},
   "outputs": [],
   "source": []
  }
 ],
 "metadata": {
  "kernelspec": {
   "display_name": "Python 3",
   "language": "python",
   "name": "python3"
  },
  "language_info": {
   "codemirror_mode": {
    "name": "ipython",
    "version": 3
   },
   "file_extension": ".py",
   "mimetype": "text/x-python",
   "name": "python",
   "nbconvert_exporter": "python",
   "pygments_lexer": "ipython3",
   "version": "3.7.6"
  }
 },
 "nbformat": 4,
 "nbformat_minor": 4
}
