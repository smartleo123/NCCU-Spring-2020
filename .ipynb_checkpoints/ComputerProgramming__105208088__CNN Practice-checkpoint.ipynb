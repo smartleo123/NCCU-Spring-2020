{
 "cells": [
  {
   "cell_type": "markdown",
   "metadata": {},
   "source": [
    "### 本次作業嘗試調整學習率的設定方式，從過往的定值設定改成使用adam讓模型訓練過程自主調整。\n",
    "### 並且把資料切割出訓練集跟驗證集做觀察，最後模型正確率約9成在可接受範圍"
   ]
  },
  {
   "cell_type": "code",
   "execution_count": 69,
   "metadata": {},
   "outputs": [],
   "source": [
    "%matplotlib inline\n",
    "\n",
    "import numpy as np\n",
    "import matplotlib.pyplot as plt\n",
    "import pandas as pd\n"
   ]
  },
  {
   "cell_type": "markdown",
   "metadata": {},
   "source": [
    "## 1. 讀入數據集"
   ]
  },
  {
   "cell_type": "code",
   "execution_count": 70,
   "metadata": {},
   "outputs": [],
   "source": [
    "from tensorflow.keras.datasets import fashion_mnist"
   ]
  },
  {
   "cell_type": "code",
   "execution_count": 95,
   "metadata": {},
   "outputs": [],
   "source": [
    "(x_train, y_train), (x_test, y_test) = fashion_mnist.load_data()"
   ]
  },
  {
   "cell_type": "markdown",
   "metadata": {},
   "source": [
    "## 2. 查看數據集的內容，確認資料型態"
   ]
  },
  {
   "cell_type": "code",
   "execution_count": 96,
   "metadata": {},
   "outputs": [
    {
     "data": {
      "text/plain": [
       "(60000, 28, 28)"
      ]
     },
     "execution_count": 96,
     "metadata": {},
     "output_type": "execute_result"
    }
   ],
   "source": [
    "x_train.shape"
   ]
  },
  {
   "cell_type": "code",
   "execution_count": 97,
   "metadata": {},
   "outputs": [
    {
     "data": {
      "text/plain": [
       "(10000, 28, 28)"
      ]
     },
     "execution_count": 97,
     "metadata": {},
     "output_type": "execute_result"
    }
   ],
   "source": [
    "x_test.shape"
   ]
  },
  {
   "cell_type": "markdown",
   "metadata": {},
   "source": [
    "## 3. 資料處理"
   ]
  },
  {
   "cell_type": "markdown",
   "metadata": {},
   "source": [
    "### 資料正規化  (0 , 255) --> (0 , 1)"
   ]
  },
  {
   "cell_type": "code",
   "execution_count": 98,
   "metadata": {},
   "outputs": [],
   "source": [
    "x_train = x_train.reshape(60000, 28, 28, 1) / 255\n",
    "x_test = x_test.reshape(10000, 28, 28, 1) / 255"
   ]
  },
  {
   "cell_type": "markdown",
   "metadata": {},
   "source": [
    "### 數據集資料為灰階，即只有一個channel，轉換資料格式從(28 , 28) --> (28 , 28 , 1)"
   ]
  },
  {
   "cell_type": "code",
   "execution_count": 99,
   "metadata": {},
   "outputs": [],
   "source": [
    "x_train = x_train.reshape(x_train.shape[0], 28, 28, 1)\n",
    "x_test = x_test.reshape(x_test.shape[0], 28, 28, 1)"
   ]
  },
  {
   "cell_type": "markdown",
   "metadata": {},
   "source": [
    "### 對輸出資料做 one-hot encoding"
   ]
  },
  {
   "cell_type": "code",
   "execution_count": 100,
   "metadata": {},
   "outputs": [],
   "source": [
    "from tensorflow.keras.utils import to_categorical\n",
    "y_train = to_categorical(y_train, 10)\n",
    "y_test = to_categorical(y_test, 10)"
   ]
  },
  {
   "cell_type": "markdown",
   "metadata": {},
   "source": [
    "## 4.建造捲積神經網路 CNN"
   ]
  },
  {
   "cell_type": "code",
   "execution_count": 101,
   "metadata": {},
   "outputs": [],
   "source": [
    "from tensorflow.keras.models import Sequential\n",
    "from tensorflow.keras.layers import Conv2D, MaxPooling2D, Dropout \n",
    "from tensorflow.keras.layers import Dense, Flatten \n",
    "from tensorflow.keras.optimizers import SGD\n"
   ]
  },
  {
   "cell_type": "code",
   "execution_count": 102,
   "metadata": {},
   "outputs": [],
   "source": [
    "model = Sequential()"
   ]
  },
  {
   "cell_type": "markdown",
   "metadata": {},
   "source": [
    "### 建立第一層Conv2D 與 MaxPooling2D，設計16個Filter和3*3的篩選機制"
   ]
  },
  {
   "cell_type": "code",
   "execution_count": 103,
   "metadata": {},
   "outputs": [],
   "source": [
    "model.add(Conv2D(16,(3,3), padding='same',input_shape = (28,28,1), activation='relu'))\n",
    "model.add(MaxPooling2D(pool_size=(2,2)))"
   ]
  },
  {
   "cell_type": "markdown",
   "metadata": {},
   "source": [
    "### 建立第二層Conv2D 與 MaxPooling2D，設計32個Filter和3*3的篩選機制"
   ]
  },
  {
   "cell_type": "code",
   "execution_count": 104,
   "metadata": {},
   "outputs": [],
   "source": [
    "model.add(Conv2D(32,(3,3),padding='same', activation='relu'))\n",
    "model.add(MaxPooling2D(pool_size=(2,2)))"
   ]
  },
  {
   "cell_type": "markdown",
   "metadata": {},
   "source": [
    "### 建立第三層Conv2D 與 MaxPooling2D，設計64個Filter和6*6的篩選機制"
   ]
  },
  {
   "cell_type": "code",
   "execution_count": 105,
   "metadata": {},
   "outputs": [],
   "source": [
    "model.add(Conv2D(64,(6,6), padding='same', activation='relu'))\n",
    "model.add(MaxPooling2D(pool_size=(2,2)))"
   ]
  },
  {
   "cell_type": "code",
   "execution_count": 106,
   "metadata": {},
   "outputs": [],
   "source": [
    "model.add(Flatten())"
   ]
  },
  {
   "cell_type": "code",
   "execution_count": 107,
   "metadata": {},
   "outputs": [],
   "source": [
    "model.add(Dense(60, activation='relu'))"
   ]
  },
  {
   "cell_type": "code",
   "execution_count": 108,
   "metadata": {},
   "outputs": [],
   "source": [
    "model.add(Dense(10 ,activation='softmax'))"
   ]
  },
  {
   "cell_type": "code",
   "execution_count": 109,
   "metadata": {},
   "outputs": [
    {
     "name": "stdout",
     "output_type": "stream",
     "text": [
      "_________________________________________________________________\n",
      "Layer (type)                 Output Shape              Param #   \n",
      "=================================================================\n",
      "conv2d_18 (Conv2D)           (None, 28, 28, 16)        160       \n",
      "_________________________________________________________________\n",
      "max_pooling2d_18 (MaxPooling (None, 14, 14, 16)        0         \n",
      "_________________________________________________________________\n",
      "conv2d_19 (Conv2D)           (None, 14, 14, 32)        4640      \n",
      "_________________________________________________________________\n",
      "max_pooling2d_19 (MaxPooling (None, 7, 7, 32)          0         \n",
      "_________________________________________________________________\n",
      "conv2d_20 (Conv2D)           (None, 7, 7, 64)          73792     \n",
      "_________________________________________________________________\n",
      "max_pooling2d_20 (MaxPooling (None, 3, 3, 64)          0         \n",
      "_________________________________________________________________\n",
      "flatten_2 (Flatten)          (None, 576)               0         \n",
      "_________________________________________________________________\n",
      "dense_4 (Dense)              (None, 60)                34620     \n",
      "_________________________________________________________________\n",
      "dense_5 (Dense)              (None, 10)                610       \n",
      "=================================================================\n",
      "Total params: 113,822\n",
      "Trainable params: 113,822\n",
      "Non-trainable params: 0\n",
      "_________________________________________________________________\n"
     ]
    }
   ],
   "source": [
    "model.summary()"
   ]
  },
  {
   "cell_type": "markdown",
   "metadata": {},
   "source": [
    "## 5. 訓練模型"
   ]
  },
  {
   "cell_type": "markdown",
   "metadata": {},
   "source": [
    "### optimizer 試著使用adam，看看訓練過程自己調整學習率的效果如何"
   ]
  },
  {
   "cell_type": "code",
   "execution_count": 110,
   "metadata": {},
   "outputs": [],
   "source": [
    "model.compile(loss = 'mse', optimizer = 'adam', metrics=['accuracy'])"
   ]
  },
  {
   "cell_type": "markdown",
   "metadata": {},
   "source": [
    "### 兩成訓練資料當成驗證集"
   ]
  },
  {
   "cell_type": "code",
   "execution_count": 114,
   "metadata": {},
   "outputs": [
    {
     "name": "stdout",
     "output_type": "stream",
     "text": [
      "Train on 48000 samples, validate on 12000 samples\n",
      "Epoch 1/16\n",
      "48000/48000 [==============================] - 34s 716us/sample - loss: 0.0120 - acc: 0.9193 - val_loss: 0.0134 - val_acc: 0.9087\n",
      "Epoch 2/16\n",
      "48000/48000 [==============================] - 35s 721us/sample - loss: 0.0110 - acc: 0.9268 - val_loss: 0.0139 - val_acc: 0.9062\n",
      "Epoch 3/16\n",
      "48000/48000 [==============================] - 35s 721us/sample - loss: 0.0101 - acc: 0.9327 - val_loss: 0.0136 - val_acc: 0.9083\n",
      "Epoch 4/16\n",
      "48000/48000 [==============================] - 35s 722us/sample - loss: 0.0093 - acc: 0.9397 - val_loss: 0.0130 - val_acc: 0.9123\n",
      "Epoch 5/16\n",
      "48000/48000 [==============================] - 35s 722us/sample - loss: 0.0084 - acc: 0.9455 - val_loss: 0.0128 - val_acc: 0.9151\n",
      "Epoch 6/16\n",
      "48000/48000 [==============================] - 35s 723us/sample - loss: 0.0078 - acc: 0.9498 - val_loss: 0.0136 - val_acc: 0.9081\n",
      "Epoch 7/16\n",
      "48000/48000 [==============================] - 35s 723us/sample - loss: 0.0074 - acc: 0.9528 - val_loss: 0.0128 - val_acc: 0.9151\n",
      "Epoch 8/16\n",
      "48000/48000 [==============================] - 35s 724us/sample - loss: 0.0067 - acc: 0.9579 - val_loss: 0.0130 - val_acc: 0.9125\n",
      "Epoch 9/16\n",
      "48000/48000 [==============================] - 35s 726us/sample - loss: 0.0062 - acc: 0.9607 - val_loss: 0.0131 - val_acc: 0.9163\n",
      "Epoch 10/16\n",
      "48000/48000 [==============================] - 35s 729us/sample - loss: 0.0058 - acc: 0.9640 - val_loss: 0.0140 - val_acc: 0.9103\n",
      "Epoch 11/16\n",
      "48000/48000 [==============================] - 35s 726us/sample - loss: 0.0054 - acc: 0.9657 - val_loss: 0.0134 - val_acc: 0.9142\n",
      "Epoch 12/16\n",
      "48000/48000 [==============================] - 35s 731us/sample - loss: 0.0050 - acc: 0.9692 - val_loss: 0.0137 - val_acc: 0.9138\n",
      "Epoch 13/16\n",
      "48000/48000 [==============================] - 35s 732us/sample - loss: 0.0048 - acc: 0.9705 - val_loss: 0.0135 - val_acc: 0.9143\n",
      "Epoch 14/16\n",
      "48000/48000 [==============================] - 35s 730us/sample - loss: 0.0044 - acc: 0.9731 - val_loss: 0.0141 - val_acc: 0.9131\n",
      "Epoch 15/16\n",
      "48000/48000 [==============================] - 35s 729us/sample - loss: 0.0044 - acc: 0.9735 - val_loss: 0.0135 - val_acc: 0.9170\n",
      "Epoch 16/16\n",
      "48000/48000 [==============================] - 35s 729us/sample - loss: 0.0041 - acc: 0.9756 - val_loss: 0.0150 - val_acc: 0.9091\n"
     ]
    },
    {
     "data": {
      "text/plain": [
       "<tensorflow.python.keras.callbacks.History at 0x24bfad1d2e8>"
      ]
     },
     "execution_count": 114,
     "metadata": {},
     "output_type": "execute_result"
    }
   ],
   "source": [
    "model.fit(x_train, y_train, batch_size=64, epochs=16 , validation_split = 0.2)"
   ]
  },
  {
   "cell_type": "markdown",
   "metadata": {},
   "source": [
    "## 6. 訓練成果"
   ]
  },
  {
   "cell_type": "code",
   "execution_count": 115,
   "metadata": {},
   "outputs": [
    {
     "name": "stdout",
     "output_type": "stream",
     "text": [
      "10000/10000 [==============================] - 2s 230us/sample - loss: 0.0159 - acc: 0.9052\n",
      "資料正確率為: 0.9052\n"
     ]
    }
   ],
   "source": [
    "score = model.evaluate(x_test,y_test)\n",
    "loss, acc = score\n",
    "print('資料正確率為:', acc)"
   ]
  },
  {
   "cell_type": "code",
   "execution_count": 116,
   "metadata": {},
   "outputs": [],
   "source": [
    "class_names = ['T-shirt/top', 'Trouser', 'Pullover', 'Dress', 'Coat','Sandal', 'Shirt', 'Sneaker', 'Bag', 'Ankle boot']"
   ]
  },
  {
   "cell_type": "code",
   "execution_count": 117,
   "metadata": {},
   "outputs": [],
   "source": [
    "result = model.predict_classes(x_test)"
   ]
  },
  {
   "cell_type": "code",
   "execution_count": 118,
   "metadata": {},
   "outputs": [],
   "source": [
    "def mypredict(n):\n",
    "    print('CNN預測結果為:', class_names[result[n]])\n",
    "    X = x_test[n].reshape(28,28)\n",
    "    plt.imshow(X,cmap='Greys');"
   ]
  },
  {
   "cell_type": "code",
   "execution_count": 119,
   "metadata": {},
   "outputs": [],
   "source": [
    "from ipywidgets import interact_manual"
   ]
  },
  {
   "cell_type": "code",
   "execution_count": 120,
   "metadata": {},
   "outputs": [
    {
     "data": {
      "application/vnd.jupyter.widget-view+json": {
       "model_id": "6d9f25142a0b47a3ac7928bb1c254ad6",
       "version_major": 2,
       "version_minor": 0
      },
      "text/plain": [
       "interactive(children=(IntSlider(value=4999, description='n', max=9999), Button(description='Run Interact', sty…"
      ]
     },
     "metadata": {},
     "output_type": "display_data"
    }
   ],
   "source": [
    "interact_manual(mypredict, n=(0,9999));"
   ]
  },
  {
   "cell_type": "code",
   "execution_count": 121,
   "metadata": {},
   "outputs": [],
   "source": [
    "model.save('myCNNmodel.h5')"
   ]
  },
  {
   "cell_type": "code",
   "execution_count": null,
   "metadata": {},
   "outputs": [],
   "source": []
  }
 ],
 "metadata": {
  "kernelspec": {
   "display_name": "Python 3",
   "language": "python",
   "name": "python3"
  },
  "language_info": {
   "codemirror_mode": {
    "name": "ipython",
    "version": 3
   },
   "file_extension": ".py",
   "mimetype": "text/x-python",
   "name": "python",
   "nbconvert_exporter": "python",
   "pygments_lexer": "ipython3",
   "version": "3.7.1"
  }
 },
 "nbformat": 4,
 "nbformat_minor": 4
}
