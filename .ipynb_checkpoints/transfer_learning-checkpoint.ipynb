{
 "cells": [
  {
   "cell_type": "markdown",
   "metadata": {
    "colab_type": "text",
    "id": "MrELPptoQjHI"
   },
   "source": [
    "## I try to work with MNIST and Fashion MNIST as the data set for practicing the assignment of transfer learning : )"
   ]
  },
  {
   "cell_type": "markdown",
   "metadata": {
    "colab_type": "text",
    "id": "slpD85I2SG6q"
   },
   "source": [
    "#  Import MNIST data set"
   ]
  },
  {
   "cell_type": "code",
   "execution_count": 0,
   "metadata": {
    "colab": {},
    "colab_type": "code",
    "id": "vv4_FCcKOCEv"
   },
   "outputs": [],
   "source": [
    "%matplotlib inline\n",
    "import numpy as np\n",
    "import matplotlib.pyplot as plt\n",
    "import pandas as pd\n",
    "import tensorflow as tf"
   ]
  },
  {
   "cell_type": "code",
   "execution_count": 0,
   "metadata": {
    "colab": {},
    "colab_type": "code",
    "id": "P5fdBt9ZR6Mh"
   },
   "outputs": [],
   "source": [
    "from tensorflow.keras.datasets import mnist\n",
    "(x_train, y_train), (x_test, y_test) = mnist.load_data()"
   ]
  },
  {
   "cell_type": "markdown",
   "metadata": {
    "colab_type": "text",
    "id": "Cx2Uru1mSgCA"
   },
   "source": [
    "# **Data preprocessing**"
   ]
  },
  {
   "cell_type": "code",
   "execution_count": 3,
   "metadata": {
    "colab": {
     "base_uri": "https://localhost:8080/",
     "height": 35
    },
    "colab_type": "code",
    "id": "02XkQb7pSBSc",
    "outputId": "46a90721-4b3f-4496-8056-95520c5999dc"
   },
   "outputs": [
    {
     "data": {
      "text/plain": [
       "(60000, 28, 28)"
      ]
     },
     "execution_count": 3,
     "metadata": {
      "tags": []
     },
     "output_type": "execute_result"
    }
   ],
   "source": [
    "x_train.shape "
   ]
  },
  {
   "cell_type": "markdown",
   "metadata": {
    "colab_type": "text",
    "id": "_KROpl_OS54J"
   },
   "source": [
    "## Reshape the data"
   ]
  },
  {
   "cell_type": "code",
   "execution_count": 0,
   "metadata": {
    "colab": {},
    "colab_type": "code",
    "id": "YO8AWRGHSn0b"
   },
   "outputs": [],
   "source": [
    "x_train = x_train.reshape(60000, 28, 28, 1)/255 \n",
    "x_test = x_test.reshape(10000, 28, 28, 1)/255"
   ]
  },
  {
   "cell_type": "code",
   "execution_count": 0,
   "metadata": {
    "colab": {},
    "colab_type": "code",
    "id": "90esCMECSzmD"
   },
   "outputs": [],
   "source": [
    "from tensorflow.keras.utils import to_categorical\n",
    "y_train = to_categorical(y_train, 10)\n",
    "y_test = to_categorical(y_test, 10)"
   ]
  },
  {
   "cell_type": "markdown",
   "metadata": {
    "colab_type": "text",
    "id": "M1qUEjXoTMvG"
   },
   "source": [
    "# Start building neural network model"
   ]
  },
  {
   "cell_type": "code",
   "execution_count": 0,
   "metadata": {
    "colab": {},
    "colab_type": "code",
    "id": "suCDcncNTGrQ"
   },
   "outputs": [],
   "source": [
    "# Layers for FNN\n",
    "from tensorflow.keras.models import Sequential\n",
    "from tensorflow.keras.layers import Dense\n",
    "from tensorflow.keras.layers import Flatten\n",
    "\n",
    "# Layers for CNN\n",
    "from tensorflow.keras.layers import Conv2D, MaxPooling2D, GlobalAveragePooling2D\n",
    "from tensorflow.keras.optimizers import SGD, Adam"
   ]
  },
  {
   "cell_type": "code",
   "execution_count": 0,
   "metadata": {
    "colab": {},
    "colab_type": "code",
    "id": "M-qOdH9qTwLX"
   },
   "outputs": [],
   "source": [
    "CNN_layers = [Conv2D(32, (5,5), padding='same', activation='relu'),\n",
    "              MaxPooling2D(pool_size=(2,2)),\n",
    "              Conv2D(64, (5,5), padding='same', activation='relu'),\n",
    "              MaxPooling2D(pool_size=(2,2)),\n",
    "              Conv2D(128, (5,5), padding='same', activation='relu'),\n",
    "              MaxPooling2D(pool_size=(2,2)),\n",
    "              Flatten()]"
   ]
  },
  {
   "cell_type": "code",
   "execution_count": 0,
   "metadata": {
    "colab": {},
    "colab_type": "code",
    "id": "Gd6EMtTRUUsZ"
   },
   "outputs": [],
   "source": [
    "FC_layers = [Dense(30, activation='relu'),\n",
    "             Dense(10, activation='softmax')]"
   ]
  },
  {
   "cell_type": "code",
   "execution_count": 0,
   "metadata": {
    "colab": {},
    "colab_type": "code",
    "id": "GH7f7iXLUqDz"
   },
   "outputs": [],
   "source": [
    "model = Sequential(CNN_layers + FC_layers)"
   ]
  },
  {
   "cell_type": "code",
   "execution_count": 0,
   "metadata": {
    "colab": {},
    "colab_type": "code",
    "id": "nIfcKQAOXo0g"
   },
   "outputs": [],
   "source": [
    "model.compile(loss='mse', optimizer='adam', metrics=['accuracy'])"
   ]
  },
  {
   "cell_type": "code",
   "execution_count": 11,
   "metadata": {
    "colab": {
     "base_uri": "https://localhost:8080/",
     "height": 746
    },
    "colab_type": "code",
    "id": "FmElBWoR7EQV",
    "outputId": "0803584d-5ab6-4e22-abdc-996dbf345d0d"
   },
   "outputs": [
    {
     "name": "stdout",
     "output_type": "stream",
     "text": [
      "Epoch 1/20\n",
      "235/235 [==============================] - 3s 12ms/step - loss: 0.0134 - accuracy: 0.9039\n",
      "Epoch 2/20\n",
      "235/235 [==============================] - 3s 12ms/step - loss: 0.0030 - accuracy: 0.9808\n",
      "Epoch 3/20\n",
      "235/235 [==============================] - 3s 12ms/step - loss: 0.0022 - accuracy: 0.9860\n",
      "Epoch 4/20\n",
      "235/235 [==============================] - 3s 12ms/step - loss: 0.0017 - accuracy: 0.9891\n",
      "Epoch 5/20\n",
      "235/235 [==============================] - 3s 12ms/step - loss: 0.0013 - accuracy: 0.9920\n",
      "Epoch 6/20\n",
      "235/235 [==============================] - 3s 12ms/step - loss: 0.0010 - accuracy: 0.9935\n",
      "Epoch 7/20\n",
      "235/235 [==============================] - 3s 12ms/step - loss: 8.7774e-04 - accuracy: 0.9946\n",
      "Epoch 8/20\n",
      "235/235 [==============================] - 3s 12ms/step - loss: 8.1626e-04 - accuracy: 0.9950\n",
      "Epoch 9/20\n",
      "235/235 [==============================] - 3s 12ms/step - loss: 7.6070e-04 - accuracy: 0.9955\n",
      "Epoch 10/20\n",
      "235/235 [==============================] - 3s 12ms/step - loss: 5.7337e-04 - accuracy: 0.9965\n",
      "Epoch 11/20\n",
      "235/235 [==============================] - 3s 12ms/step - loss: 6.9100e-04 - accuracy: 0.9956\n",
      "Epoch 12/20\n",
      "235/235 [==============================] - 3s 12ms/step - loss: 5.9527e-04 - accuracy: 0.9963\n",
      "Epoch 13/20\n",
      "235/235 [==============================] - 3s 12ms/step - loss: 5.0655e-04 - accuracy: 0.9970\n",
      "Epoch 14/20\n",
      "235/235 [==============================] - 3s 12ms/step - loss: 4.4065e-04 - accuracy: 0.9973\n",
      "Epoch 15/20\n",
      "235/235 [==============================] - 3s 12ms/step - loss: 5.0845e-04 - accuracy: 0.9967\n",
      "Epoch 16/20\n",
      "235/235 [==============================] - 3s 12ms/step - loss: 4.7998e-04 - accuracy: 0.9969\n",
      "Epoch 17/20\n",
      "235/235 [==============================] - 3s 12ms/step - loss: 4.1846e-04 - accuracy: 0.9974\n",
      "Epoch 18/20\n",
      "235/235 [==============================] - 3s 12ms/step - loss: 3.5125e-04 - accuracy: 0.9980\n",
      "Epoch 19/20\n",
      "235/235 [==============================] - 3s 12ms/step - loss: 3.8473e-04 - accuracy: 0.9976\n",
      "Epoch 20/20\n",
      "235/235 [==============================] - 3s 12ms/step - loss: 4.6105e-04 - accuracy: 0.9972\n"
     ]
    },
    {
     "data": {
      "text/plain": [
       "<tensorflow.python.keras.callbacks.History at 0x7f84a05e7978>"
      ]
     },
     "execution_count": 11,
     "metadata": {
      "tags": []
     },
     "output_type": "execute_result"
    }
   ],
   "source": [
    "model.fit(x_train, y_train, batch_size=256, epochs=20)"
   ]
  },
  {
   "cell_type": "code",
   "execution_count": 12,
   "metadata": {
    "colab": {
     "base_uri": "https://localhost:8080/",
     "height": 479
    },
    "colab_type": "code",
    "id": "zMP-Ip8D8mTu",
    "outputId": "522b6266-bb7b-4da7-8434-0b921d5fa6af"
   },
   "outputs": [
    {
     "name": "stdout",
     "output_type": "stream",
     "text": [
      "Model: \"sequential\"\n",
      "_________________________________________________________________\n",
      "Layer (type)                 Output Shape              Param #   \n",
      "=================================================================\n",
      "conv2d (Conv2D)              multiple                  832       \n",
      "_________________________________________________________________\n",
      "max_pooling2d (MaxPooling2D) multiple                  0         \n",
      "_________________________________________________________________\n",
      "conv2d_1 (Conv2D)            multiple                  51264     \n",
      "_________________________________________________________________\n",
      "max_pooling2d_1 (MaxPooling2 multiple                  0         \n",
      "_________________________________________________________________\n",
      "conv2d_2 (Conv2D)            multiple                  204928    \n",
      "_________________________________________________________________\n",
      "max_pooling2d_2 (MaxPooling2 multiple                  0         \n",
      "_________________________________________________________________\n",
      "flatten (Flatten)            multiple                  0         \n",
      "_________________________________________________________________\n",
      "dense (Dense)                multiple                  34590     \n",
      "_________________________________________________________________\n",
      "dense_1 (Dense)              multiple                  310       \n",
      "=================================================================\n",
      "Total params: 291,924\n",
      "Trainable params: 291,924\n",
      "Non-trainable params: 0\n",
      "_________________________________________________________________\n"
     ]
    }
   ],
   "source": [
    "model.summary()"
   ]
  },
  {
   "cell_type": "code",
   "execution_count": 13,
   "metadata": {
    "colab": {
     "base_uri": "https://localhost:8080/",
     "height": 52
    },
    "colab_type": "code",
    "id": "3oXAVMKa9cQF",
    "outputId": "67243d6f-8a55-44d1-9e7b-090ba234bf84"
   },
   "outputs": [
    {
     "name": "stdout",
     "output_type": "stream",
     "text": [
      "1875/1875 [==============================] - 4s 2ms/step - loss: 4.7995e-04 - accuracy: 0.9971\n",
      "313/313 [==============================] - 1s 3ms/step - loss: 0.0017 - accuracy: 0.9892\n"
     ]
    }
   ],
   "source": [
    "score_train = model.evaluate(x_train, y_train)\n",
    "score_test = model.evaluate(x_test, y_test)"
   ]
  },
  {
   "cell_type": "code",
   "execution_count": 14,
   "metadata": {
    "colab": {
     "base_uri": "https://localhost:8080/",
     "height": 52
    },
    "colab_type": "code",
    "id": "T6JlT1Wj9hQ4",
    "outputId": "edd3d19c-b96c-45f6-b2ba-45f02bab8825"
   },
   "outputs": [
    {
     "name": "stdout",
     "output_type": "stream",
     "text": [
      "the correctness of the training data: 0.997083306312561\n",
      "the correctness of the testing data: 0.9891999959945679\n"
     ]
    }
   ],
   "source": [
    "print(f\"the correctness of the training data: {score_train[1]}\")\n",
    "print(f\"the correctness of the testing data: {score_test[1]}\")"
   ]
  },
  {
   "cell_type": "markdown",
   "metadata": {
    "colab_type": "text",
    "id": "_3thYquv-XRZ"
   },
   "source": [
    "## Import the data set of Fashion MNIST"
   ]
  },
  {
   "cell_type": "code",
   "execution_count": 0,
   "metadata": {
    "colab": {},
    "colab_type": "code",
    "id": "o7TUuqci964b"
   },
   "outputs": [],
   "source": [
    "from tensorflow.keras.datasets import fashion_mnist\n",
    "(x_train, y_train), (x_test, y_test) = fashion_mnist.load_data()\n",
    "class_names = [\"T-shirt/top\", \"Trouser\", \"Pullover\", \"Dress\", \"Coat\", \"Sandal\", \"Shirt\", \"Sneaker\", \"Bag\", \"Ankle boot\"]"
   ]
  },
  {
   "cell_type": "markdown",
   "metadata": {
    "colab_type": "text",
    "id": "4fnaPTjO-jfU"
   },
   "source": [
    "## We do some data preprocessing for Fashion MNIST as well. "
   ]
  },
  {
   "cell_type": "code",
   "execution_count": 0,
   "metadata": {
    "colab": {},
    "colab_type": "code",
    "id": "0PWaEwcc-Jcb"
   },
   "outputs": [],
   "source": [
    "x_train = x_train.reshape(60000, 28, 28, 1)/255\n",
    "x_test = x_test.reshape(10000, 28, 28, 1)/255\n",
    "\n",
    "y_train = to_categorical(y_train, 10)\n",
    "y_test = to_categorical(y_test, 10)"
   ]
  },
  {
   "cell_type": "code",
   "execution_count": 0,
   "metadata": {
    "colab": {},
    "colab_type": "code",
    "id": "Eonqwa2c_HpH"
   },
   "outputs": [],
   "source": [
    "FC_layers_fashion = [Dense(64, activation='relu'),\n",
    "              Dense(128, activation='relu'),\n",
    "              Dense(10, activation='softmax')]"
   ]
  },
  {
   "cell_type": "code",
   "execution_count": 0,
   "metadata": {
    "colab": {},
    "colab_type": "code",
    "id": "ocH5EhC9_TJZ"
   },
   "outputs": [],
   "source": [
    "model_fashion = Sequential(CNN_layers+FC_layers_fashion)"
   ]
  },
  {
   "cell_type": "markdown",
   "metadata": {
    "colab_type": "text",
    "id": "vGo731kV_kwP"
   },
   "source": [
    "## Try the frozen method and see how it works at first :)"
   ]
  },
  {
   "cell_type": "code",
   "execution_count": 0,
   "metadata": {
    "colab": {},
    "colab_type": "code",
    "id": "kBJTLc0R_doW"
   },
   "outputs": [],
   "source": [
    "for layer in CNN_layers:\n",
    "    layer.trainable = False"
   ]
  },
  {
   "cell_type": "code",
   "execution_count": 0,
   "metadata": {
    "colab": {},
    "colab_type": "code",
    "id": "sz8b83Z3_4Rt"
   },
   "outputs": [],
   "source": [
    "model_fashion.compile(loss='mse', optimizer='adam', metrics=['accuracy'])"
   ]
  },
  {
   "cell_type": "code",
   "execution_count": 21,
   "metadata": {
    "colab": {
     "base_uri": "https://localhost:8080/",
     "height": 746
    },
    "colab_type": "code",
    "id": "va0yAxb__-RC",
    "outputId": "427bd040-2aca-4f3d-a6fd-e5006cc73041"
   },
   "outputs": [
    {
     "name": "stdout",
     "output_type": "stream",
     "text": [
      "Epoch 1/20\n",
      "235/235 [==============================] - 1s 6ms/step - loss: 0.0266 - accuracy: 0.8134\n",
      "Epoch 2/20\n",
      "235/235 [==============================] - 1s 6ms/step - loss: 0.0187 - accuracy: 0.8719\n",
      "Epoch 3/20\n",
      "235/235 [==============================] - 1s 6ms/step - loss: 0.0170 - accuracy: 0.8852\n",
      "Epoch 4/20\n",
      "235/235 [==============================] - 1s 6ms/step - loss: 0.0158 - accuracy: 0.8935\n",
      "Epoch 5/20\n",
      "235/235 [==============================] - 1s 6ms/step - loss: 0.0150 - accuracy: 0.8976\n",
      "Epoch 6/20\n",
      "235/235 [==============================] - 1s 6ms/step - loss: 0.0142 - accuracy: 0.9044\n",
      "Epoch 7/20\n",
      "235/235 [==============================] - 1s 6ms/step - loss: 0.0138 - accuracy: 0.9078\n",
      "Epoch 8/20\n",
      "235/235 [==============================] - 1s 6ms/step - loss: 0.0131 - accuracy: 0.9126\n",
      "Epoch 9/20\n",
      "235/235 [==============================] - 1s 6ms/step - loss: 0.0126 - accuracy: 0.9159\n",
      "Epoch 10/20\n",
      "235/235 [==============================] - 1s 6ms/step - loss: 0.0122 - accuracy: 0.9199\n",
      "Epoch 11/20\n",
      "235/235 [==============================] - 1s 6ms/step - loss: 0.0117 - accuracy: 0.9240\n",
      "Epoch 12/20\n",
      "235/235 [==============================] - 1s 6ms/step - loss: 0.0113 - accuracy: 0.9272\n",
      "Epoch 13/20\n",
      "235/235 [==============================] - 1s 6ms/step - loss: 0.0111 - accuracy: 0.9280\n",
      "Epoch 14/20\n",
      "235/235 [==============================] - 1s 6ms/step - loss: 0.0107 - accuracy: 0.9303\n",
      "Epoch 15/20\n",
      "235/235 [==============================] - 1s 6ms/step - loss: 0.0105 - accuracy: 0.9331\n",
      "Epoch 16/20\n",
      "235/235 [==============================] - 1s 6ms/step - loss: 0.0100 - accuracy: 0.9357\n",
      "Epoch 17/20\n",
      "235/235 [==============================] - 1s 6ms/step - loss: 0.0097 - accuracy: 0.9386\n",
      "Epoch 18/20\n",
      "235/235 [==============================] - 1s 6ms/step - loss: 0.0095 - accuracy: 0.9395\n",
      "Epoch 19/20\n",
      "235/235 [==============================] - 1s 6ms/step - loss: 0.0092 - accuracy: 0.9413\n",
      "Epoch 20/20\n",
      "235/235 [==============================] - 1s 6ms/step - loss: 0.0088 - accuracy: 0.9447\n"
     ]
    },
    {
     "data": {
      "text/plain": [
       "<tensorflow.python.keras.callbacks.History at 0x7f84a0371c88>"
      ]
     },
     "execution_count": 21,
     "metadata": {
      "tags": []
     },
     "output_type": "execute_result"
    }
   ],
   "source": [
    "model_fashion.fit(x_train, y_train, batch_size=256, epochs=20)"
   ]
  },
  {
   "cell_type": "code",
   "execution_count": 22,
   "metadata": {
    "colab": {
     "base_uri": "https://localhost:8080/",
     "height": 52
    },
    "colab_type": "code",
    "id": "YJcoheVqADwq",
    "outputId": "fea22312-1a49-4c85-9811-1d0d5917ec3a"
   },
   "outputs": [
    {
     "name": "stdout",
     "output_type": "stream",
     "text": [
      "1875/1875 [==============================] - 4s 2ms/step - loss: 0.0085 - accuracy: 0.9468\n",
      "313/313 [==============================] - 1s 2ms/step - loss: 0.0171 - accuracy: 0.8885\n"
     ]
    }
   ],
   "source": [
    "score_train = model_fashion.evaluate(x_train, y_train)\n",
    "score_test = model_fashion.evaluate(x_test, y_test)"
   ]
  },
  {
   "cell_type": "code",
   "execution_count": 23,
   "metadata": {
    "colab": {
     "base_uri": "https://localhost:8080/",
     "height": 52
    },
    "colab_type": "code",
    "id": "MWGLAhnuJnrk",
    "outputId": "b77aad7d-a6d6-4185-bc4c-c5cb3fc9a578"
   },
   "outputs": [
    {
     "name": "stdout",
     "output_type": "stream",
     "text": [
      "training data accuracy: 94.67999935150146\n",
      "testing  data accuracy: 88.84999752044678\n"
     ]
    }
   ],
   "source": [
    "print(f\"training data accuracy: {score_train[1]*100}\")\n",
    "print(f\"testing  data accuracy: {score_test[1]*100}\")"
   ]
  },
  {
   "cell_type": "markdown",
   "metadata": {
    "colab_type": "text",
    "id": "LaXFOAELFVx0"
   },
   "source": [
    "## Next I try to implement Fine-Tune method "
   ]
  },
  {
   "cell_type": "code",
   "execution_count": 0,
   "metadata": {
    "colab": {},
    "colab_type": "code",
    "id": "TjdqUnyKA-zR"
   },
   "outputs": [],
   "source": [
    "for layer in CNN_layers:\n",
    "    layer.trainable = True"
   ]
  },
  {
   "cell_type": "code",
   "execution_count": 0,
   "metadata": {
    "colab": {},
    "colab_type": "code",
    "id": "AOUxE7XTFj3Z"
   },
   "outputs": [],
   "source": [
    "model_fashion.compile(loss='mse', optimizer='adam', metrics=['accuracy'])"
   ]
  },
  {
   "cell_type": "code",
   "execution_count": 26,
   "metadata": {
    "colab": {
     "base_uri": "https://localhost:8080/",
     "height": 746
    },
    "colab_type": "code",
    "id": "iQHKhJPjFoYG",
    "outputId": "f77c1133-77c2-44d0-9e42-899505f25e6c"
   },
   "outputs": [
    {
     "name": "stdout",
     "output_type": "stream",
     "text": [
      "Epoch 1/20\n",
      "235/235 [==============================] - 3s 13ms/step - loss: 0.0123 - accuracy: 0.9188\n",
      "Epoch 2/20\n",
      "235/235 [==============================] - 3s 12ms/step - loss: 0.0104 - accuracy: 0.9325\n",
      "Epoch 3/20\n",
      "235/235 [==============================] - 3s 12ms/step - loss: 0.0091 - accuracy: 0.9417\n",
      "Epoch 4/20\n",
      "235/235 [==============================] - 3s 12ms/step - loss: 0.0084 - accuracy: 0.9457\n",
      "Epoch 5/20\n",
      "235/235 [==============================] - 3s 12ms/step - loss: 0.0077 - accuracy: 0.9508\n",
      "Epoch 6/20\n",
      "235/235 [==============================] - 3s 12ms/step - loss: 0.0070 - accuracy: 0.9553\n",
      "Epoch 7/20\n",
      "235/235 [==============================] - 3s 13ms/step - loss: 0.0063 - accuracy: 0.9597\n",
      "Epoch 8/20\n",
      "235/235 [==============================] - 3s 12ms/step - loss: 0.0058 - accuracy: 0.9633\n",
      "Epoch 9/20\n",
      "235/235 [==============================] - 3s 13ms/step - loss: 0.0053 - accuracy: 0.9669\n",
      "Epoch 10/20\n",
      "235/235 [==============================] - 3s 13ms/step - loss: 0.0052 - accuracy: 0.9671\n",
      "Epoch 11/20\n",
      "235/235 [==============================] - 3s 12ms/step - loss: 0.0045 - accuracy: 0.9717\n",
      "Epoch 12/20\n",
      "235/235 [==============================] - 3s 12ms/step - loss: 0.0042 - accuracy: 0.9745\n",
      "Epoch 13/20\n",
      "235/235 [==============================] - 3s 12ms/step - loss: 0.0042 - accuracy: 0.9739\n",
      "Epoch 14/20\n",
      "235/235 [==============================] - 3s 12ms/step - loss: 0.0038 - accuracy: 0.9766\n",
      "Epoch 15/20\n",
      "235/235 [==============================] - 3s 12ms/step - loss: 0.0041 - accuracy: 0.9743\n",
      "Epoch 16/20\n",
      "235/235 [==============================] - 3s 12ms/step - loss: 0.0036 - accuracy: 0.9780\n",
      "Epoch 17/20\n",
      "235/235 [==============================] - 3s 12ms/step - loss: 0.0034 - accuracy: 0.9794\n",
      "Epoch 18/20\n",
      "235/235 [==============================] - 3s 12ms/step - loss: 0.0032 - accuracy: 0.9805\n",
      "Epoch 19/20\n",
      "235/235 [==============================] - 3s 12ms/step - loss: 0.0033 - accuracy: 0.9799\n",
      "Epoch 20/20\n",
      "235/235 [==============================] - 3s 12ms/step - loss: 0.0033 - accuracy: 0.9795\n"
     ]
    },
    {
     "data": {
      "text/plain": [
       "<tensorflow.python.keras.callbacks.History at 0x7f84a01be828>"
      ]
     },
     "execution_count": 26,
     "metadata": {
      "tags": []
     },
     "output_type": "execute_result"
    }
   ],
   "source": [
    "model_fashion.fit(x_train, y_train, batch_size=256, epochs=20)"
   ]
  },
  {
   "cell_type": "code",
   "execution_count": 27,
   "metadata": {
    "colab": {
     "base_uri": "https://localhost:8080/",
     "height": 52
    },
    "colab_type": "code",
    "id": "IKg1D8CbFwvD",
    "outputId": "67c16d55-bade-4b99-d44d-6af51d35da18"
   },
   "outputs": [
    {
     "name": "stdout",
     "output_type": "stream",
     "text": [
      "1875/1875 [==============================] - 4s 2ms/step - loss: 0.0027 - accuracy: 0.9843\n",
      "313/313 [==============================] - 1s 2ms/step - loss: 0.0149 - accuracy: 0.9116\n"
     ]
    }
   ],
   "source": [
    "score_train = model_fashion.evaluate(x_train, y_train)\n",
    "score_test = model_fashion.evaluate(x_test, y_test)"
   ]
  },
  {
   "cell_type": "code",
   "execution_count": 28,
   "metadata": {
    "colab": {
     "base_uri": "https://localhost:8080/",
     "height": 52
    },
    "colab_type": "code",
    "id": "uin89iRCJ_XE",
    "outputId": "a8f7b062-db30-4fc6-c49e-b3ba85697f2d"
   },
   "outputs": [
    {
     "name": "stdout",
     "output_type": "stream",
     "text": [
      "training data accuracy: 98.43166470527649\n",
      "testing  data accuracy: 91.15999937057495\n"
     ]
    }
   ],
   "source": [
    "print(f\"training data accuracy: {score_train[1]*100}\")\n",
    "print(f\"testing  data accuracy: {score_test[1]*100}\")"
   ]
  },
  {
   "cell_type": "markdown",
   "metadata": {
    "colab_type": "text",
    "id": "3fer0NdzHBd9"
   },
   "source": [
    "# Conclusion:\n",
    "\n",
    "# According to the model I have trained, it seems that the performance of frozen and fine-tune are quite similar. \n",
    "\n",
    "# I may try to build more models in the future for the sake of understanding the difference between these two methods and to learn it deeper ^^"
   ]
  },
  {
   "cell_type": "code",
   "execution_count": 0,
   "metadata": {
    "colab": {},
    "colab_type": "code",
    "id": "MojFqjsWIHhT"
   },
   "outputs": [],
   "source": [
    ""
   ]
  }
 ],
 "metadata": {
  "accelerator": "GPU",
  "colab": {
   "name": "transfer learning",
   "provenance": []
  },
  "kernelspec": {
   "display_name": "Python 3",
   "name": "python3"
  }
 },
 "nbformat": 4,
 "nbformat_minor": 0
}
