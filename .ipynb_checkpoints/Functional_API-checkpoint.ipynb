{
 "cells": [
  {
   "cell_type": "markdown",
   "metadata": {
    "colab_type": "text",
    "id": "8QVLv0uCVq7n"
   },
   "source": [
    "# I manage to learn whether functional API can work well on the MNIST set.\n"
   ]
  },
  {
   "cell_type": "code",
   "execution_count": 0,
   "metadata": {
    "colab": {},
    "colab_type": "code",
    "id": "kZ78Q3ucILSG"
   },
   "outputs": [],
   "source": [
    "# Import the useful packages and the data set\n",
    "%matplotlib inline\n",
    "import numpy as np\n",
    "import matplotlib.pyplot as plt\n",
    "import pandas as pd\n",
    "import tensorflow as tf"
   ]
  },
  {
   "cell_type": "code",
   "execution_count": 2,
   "metadata": {
    "colab": {
     "base_uri": "https://localhost:8080/",
     "height": 52
    },
    "colab_type": "code",
    "id": "2c1oYrKwLR1c",
    "outputId": "96683461-957c-44bc-8d91-dd88722e1c47"
   },
   "outputs": [
    {
     "name": "stdout",
     "output_type": "stream",
     "text": [
      "Downloading data from https://storage.googleapis.com/tensorflow/tf-keras-datasets/mnist.npz\n",
      "11493376/11490434 [==============================] - 0s 0us/step\n"
     ]
    }
   ],
   "source": [
    "from tensorflow.keras.datasets import mnist\n",
    "(x_train, y_train), (x_test, y_test) = mnist.load_data()"
   ]
  },
  {
   "cell_type": "code",
   "execution_count": 0,
   "metadata": {
    "colab": {},
    "colab_type": "code",
    "id": "FxoGp1loLgOR"
   },
   "outputs": [],
   "source": [
    "# Reshape the size of the data\n",
    "x_train = x_train.reshape(-1, 28*28)\n",
    "x_test = x_test.reshape(-1, 28*28)"
   ]
  },
  {
   "cell_type": "code",
   "execution_count": 0,
   "metadata": {
    "colab": {},
    "colab_type": "code",
    "id": "nvZavNC1MFCv"
   },
   "outputs": [],
   "source": [
    "from tensorflow.keras.utils import to_categorical\n",
    "y_train = to_categorical(y_train, 10)\n",
    "y_test = to_categorical(y_test, 10)"
   ]
  },
  {
   "cell_type": "code",
   "execution_count": 0,
   "metadata": {
    "colab": {},
    "colab_type": "code",
    "id": "A7Jki3hzMHVb"
   },
   "outputs": [],
   "source": [
    "# Import the essential packages for building model\n",
    "\n",
    "# Layers for FNN\n",
    "from tensorflow.keras.models import Sequential\n",
    "from tensorflow.keras.layers import Dense\n",
    "from tensorflow.keras.layers import Flatten\n",
    "\n",
    "# Layers for CNN\n",
    "from tensorflow.keras.layers import Conv2D, MaxPooling2D, GlobalAveragePooling2D\n",
    "from tensorflow.keras.optimizers import SGD, Adam"
   ]
  },
  {
   "cell_type": "code",
   "execution_count": 0,
   "metadata": {
    "colab": {},
    "colab_type": "code",
    "id": "OvoHRRMUMQ39"
   },
   "outputs": [],
   "source": [
    "# Normalize the ranfe of features\n",
    "x_train = x_train / x_train.max()\n",
    "x_test = x_test / x_test.max()"
   ]
  },
  {
   "cell_type": "code",
   "execution_count": 0,
   "metadata": {
    "colab": {},
    "colab_type": "code",
    "id": "_yDql3KdMcl8"
   },
   "outputs": [],
   "source": [
    "from tensorflow.keras.models import Model\n",
    "from tensorflow.keras.layers import Input"
   ]
  },
  {
   "cell_type": "code",
   "execution_count": 0,
   "metadata": {
    "colab": {},
    "colab_type": "code",
    "id": "KaeieRSSMiDK"
   },
   "outputs": [],
   "source": [
    "#define two hidden layers and the output layers with the hyperparameters decided by me : ) \n",
    "f_1 = Dense(512, activation='relu')\n",
    "f_2 = Dense(256, activation='relu')\n",
    "f_3 = Dense(10, activation='softmax')"
   ]
  },
  {
   "cell_type": "code",
   "execution_count": 0,
   "metadata": {
    "colab": {},
    "colab_type": "code",
    "id": "LoGuXeQ7N_Pd"
   },
   "outputs": [],
   "source": [
    "x = Input(shape=(784,)) # x stands for the first input"
   ]
  },
  {
   "cell_type": "code",
   "execution_count": 0,
   "metadata": {
    "colab": {},
    "colab_type": "code",
    "id": "Wug0n1KmPCo6"
   },
   "outputs": [],
   "source": [
    "output1= f_1(x)\n",
    "output2= f_2(output1)\n",
    "output3= f_3(output2)"
   ]
  },
  {
   "cell_type": "markdown",
   "metadata": {},
   "source": [
    "#### ![title](layers.jpg)"
   ]
  },
  {
   "cell_type": "code",
   "execution_count": 24,
   "metadata": {
    "colab": {
     "base_uri": "https://localhost:8080/",
     "height": 301
    },
    "colab_type": "code",
    "id": "RlYZSjkdPX6k",
    "outputId": "fbb1deaf-ae35-45cd-83c3-43283197f7cc"
   },
   "outputs": [
    {
     "name": "stdout",
     "output_type": "stream",
     "text": [
      "Model: \"model_2\"\n",
      "_________________________________________________________________\n",
      "Layer (type)                 Output Shape              Param #   \n",
      "=================================================================\n",
      "input_1 (InputLayer)         [(None, 784)]             0         \n",
      "_________________________________________________________________\n",
      "dense_5 (Dense)              (None, 512)               401920    \n",
      "_________________________________________________________________\n",
      "dense_6 (Dense)              (None, 256)               131328    \n",
      "_________________________________________________________________\n",
      "dense_7 (Dense)              (None, 10)                2570      \n",
      "=================================================================\n",
      "Total params: 535,818\n",
      "Trainable params: 535,818\n",
      "Non-trainable params: 0\n",
      "_________________________________________________________________\n"
     ]
    }
   ],
   "source": [
    "# try to connect the input and I have setted above\n",
    "model = Model(x,output3)\n",
    "model.summary()"
   ]
  },
  {
   "cell_type": "code",
   "execution_count": 0,
   "metadata": {
    "colab": {},
    "colab_type": "code",
    "id": "TuXJ-OMwPdcU"
   },
   "outputs": [],
   "source": [
    "model.compile(loss='mse', optimizer='adam', metrics=['accuracy'])"
   ]
  },
  {
   "cell_type": "code",
   "execution_count": 27,
   "metadata": {
    "colab": {
     "base_uri": "https://localhost:8080/",
     "height": 390
    },
    "colab_type": "code",
    "id": "h0XI2FzjPnUL",
    "outputId": "63a7ca8e-c335-4a08-8abe-108c36b2b062"
   },
   "outputs": [
    {
     "name": "stdout",
     "output_type": "stream",
     "text": [
      "Epoch 1/10\n",
      "235/235 [==============================] - 4s 15ms/step - loss: 0.0129 - accuracy: 0.9152\n",
      "Epoch 2/10\n",
      "235/235 [==============================] - 3s 15ms/step - loss: 0.0052 - accuracy: 0.9670\n",
      "Epoch 3/10\n",
      "235/235 [==============================] - 4s 15ms/step - loss: 0.0036 - accuracy: 0.9777\n",
      "Epoch 4/10\n",
      "235/235 [==============================] - 4s 15ms/step - loss: 0.0027 - accuracy: 0.9839\n",
      "Epoch 5/10\n",
      "235/235 [==============================] - 4s 15ms/step - loss: 0.0020 - accuracy: 0.9881\n",
      "Epoch 6/10\n",
      "235/235 [==============================] - 3s 15ms/step - loss: 0.0016 - accuracy: 0.9905\n",
      "Epoch 7/10\n",
      "235/235 [==============================] - 4s 15ms/step - loss: 0.0014 - accuracy: 0.9914\n",
      "Epoch 8/10\n",
      "235/235 [==============================] - 4s 15ms/step - loss: 0.0012 - accuracy: 0.9928\n",
      "Epoch 9/10\n",
      "235/235 [==============================] - 4s 15ms/step - loss: 0.0011 - accuracy: 0.9937\n",
      "Epoch 10/10\n",
      "235/235 [==============================] - 3s 15ms/step - loss: 9.9174e-04 - accuracy: 0.9942\n"
     ]
    },
    {
     "data": {
      "text/plain": [
       "<tensorflow.python.keras.callbacks.History at 0x7f05b67c10b8>"
      ]
     },
     "execution_count": 27,
     "metadata": {
      "tags": []
     },
     "output_type": "execute_result"
    }
   ],
   "source": [
    "model.fit(x_train, y_train, batch_size=256, epochs=10)"
   ]
  },
  {
   "cell_type": "code",
   "execution_count": 28,
   "metadata": {
    "colab": {
     "base_uri": "https://localhost:8080/",
     "height": 52
    },
    "colab_type": "code",
    "id": "C_sskkELPuqu",
    "outputId": "5eb1880f-cde0-49df-9df6-69b86a2ec978"
   },
   "outputs": [
    {
     "name": "stdout",
     "output_type": "stream",
     "text": [
      "1875/1875 [==============================] - 4s 2ms/step - loss: 8.4529e-04 - accuracy: 0.9951\n",
      "313/313 [==============================] - 1s 2ms/step - loss: 0.0032 - accuracy: 0.9799\n"
     ]
    }
   ],
   "source": [
    "score_train = model.evaluate(x_train, y_train)\n",
    "score_test = model.evaluate(x_test, y_test)"
   ]
  },
  {
   "cell_type": "code",
   "execution_count": 31,
   "metadata": {
    "colab": {
     "base_uri": "https://localhost:8080/",
     "height": 52
    },
    "colab_type": "code",
    "id": "0WnCsCxdSUOr",
    "outputId": "bcfbf491-7395-40e2-e8d4-8be99b512fbc"
   },
   "outputs": [
    {
     "name": "stdout",
     "output_type": "stream",
     "text": [
      "the correctness of the training data: 99.51000213623047\n",
      "the correctness of the testing data: 97.99000024795532\n"
     ]
    }
   ],
   "source": [
    "print(f\"the correctness of the training data: {score_train[1]*100}\")\n",
    "print(f\"the correctness of the testing data: {score_test[1]*100}\")"
   ]
  },
  {
   "cell_type": "markdown",
   "metadata": {},
   "source": []
  },
  {
   "cell_type": "code",
   "execution_count": null,
   "metadata": {},
   "outputs": [],
   "source": []
  }
 ],
 "metadata": {
  "colab": {
   "name": "Functional API",
   "provenance": []
  },
  "kernelspec": {
   "display_name": "Python 3",
   "language": "python",
   "name": "python3"
  },
  "language_info": {
   "codemirror_mode": {
    "name": "ipython",
    "version": 3
   },
   "file_extension": ".py",
   "mimetype": "text/x-python",
   "name": "python",
   "nbconvert_exporter": "python",
   "pygments_lexer": "ipython3",
   "version": "3.7.6"
  }
 },
 "nbformat": 4,
 "nbformat_minor": 1
}
