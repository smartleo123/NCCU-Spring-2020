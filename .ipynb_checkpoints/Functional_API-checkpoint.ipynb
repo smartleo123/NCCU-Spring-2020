{
 "cells": [
  {
   "cell_type": "markdown",
   "metadata": {
    "colab_type": "text",
    "id": "8QVLv0uCVq7n"
   },
   "source": [
    "# I manage to learn whether functional API can work well on the MNIST set.\n"
   ]
  },
  {
   "cell_type": "code",
   "execution_count": 0,
   "metadata": {
    "colab": {},
    "colab_type": "code",
    "id": "kZ78Q3ucILSG"
   },
   "outputs": [],
   "source": [
    "# Import the useful packages and the data set\n",
    "%matplotlib inline\n",
    "import numpy as np\n",
    "import matplotlib.pyplot as plt\n",
    "import pandas as pd\n",
    "import tensorflow as tf"
   ]
  },
  {
   "cell_type": "code",
   "execution_count": 0,
   "metadata": {
    "colab": {},
    "colab_type": "code",
    "id": "2c1oYrKwLR1c"
   },
   "outputs": [],
   "source": [
    "from tensorflow.keras.datasets import mnist\n",
    "(x_train, y_train), (x_test, y_test) = mnist.load_data()"
   ]
  },
  {
   "cell_type": "code",
   "execution_count": 0,
   "metadata": {
    "colab": {},
    "colab_type": "code",
    "id": "FxoGp1loLgOR"
   },
   "outputs": [],
   "source": [
    "# Reshape the size of the data\n",
    "x_train = x_train.reshape(-1, 28*28)\n",
    "x_test = x_test.reshape(-1, 28*28)"
   ]
  },
  {
   "cell_type": "code",
   "execution_count": 0,
   "metadata": {
    "colab": {},
    "colab_type": "code",
    "id": "OvoHRRMUMQ39"
   },
   "outputs": [],
   "source": [
    "# Normalize the range of features\n",
    "x_train = x_train / x_train.max()\n",
    "x_test = x_test / x_test.max()"
   ]
  },
  {
   "cell_type": "code",
   "execution_count": 0,
   "metadata": {
    "colab": {},
    "colab_type": "code",
    "id": "nvZavNC1MFCv"
   },
   "outputs": [],
   "source": [
    "# One-hot encoding\n",
    "from tensorflow.keras.utils import to_categorical\n",
    "y_train = to_categorical(y_train, 10)\n",
    "y_test = to_categorical(y_test, 10)"
   ]
  },
  {
   "cell_type": "code",
   "execution_count": 0,
   "metadata": {
    "colab": {},
    "colab_type": "code",
    "id": "A7Jki3hzMHVb"
   },
   "outputs": [],
   "source": [
    "# Import the essential packages for building model\n",
    "\n",
    "# Layers for FNN\n",
    "from tensorflow.keras.models import Sequential\n",
    "from tensorflow.keras.layers import Dense\n",
    "from tensorflow.keras.layers import Flatten\n",
    "\n",
    "# Layers for CNN\n",
    "from tensorflow.keras.layers import Conv2D, MaxPooling2D, GlobalAveragePooling2D\n",
    "from tensorflow.keras.optimizers import SGD, Adam"
   ]
  },
  {
   "cell_type": "code",
   "execution_count": 0,
   "metadata": {
    "colab": {},
    "colab_type": "code",
    "id": "_yDql3KdMcl8"
   },
   "outputs": [],
   "source": [
    "from tensorflow.keras.models import Model\n",
    "from tensorflow.keras.layers import Input\n",
    "from tensorflow.keras.layers import concatenate, add"
   ]
  },
  {
   "cell_type": "code",
   "execution_count": 0,
   "metadata": {
    "colab": {},
    "colab_type": "code",
    "id": "LoGuXeQ7N_Pd"
   },
   "outputs": [],
   "source": [
    "x = Input(shape=(784,)) # x stands for the first input"
   ]
  },
  {
   "cell_type": "code",
   "execution_count": 0,
   "metadata": {
    "colab": {},
    "colab_type": "code",
    "id": "KaeieRSSMiDK"
   },
   "outputs": [],
   "source": [
    "#define two hidden layers and the output layers with the hyperparameters decided by me : ) \n",
    "f_1 = Dense(512, activation='relu')\n",
    "f_2 = Dense(256, activation='relu')\n",
    "f_3 = Dense(128, activation='relu')\n",
    "f_4 = Dense(10, activation = 'softmax')"
   ]
  },
  {
   "cell_type": "code",
   "execution_count": 0,
   "metadata": {
    "colab": {},
    "colab_type": "code",
    "id": "BbcB3cXd4Q8Y"
   },
   "outputs": [],
   "source": [
    "h_1 = f_1(x)\n",
    "h_2 = f_2(h_1)\n",
    "h_3 = f_3(h_1)\n",
    "u = concatenate([h_2, h_3])\n",
    "y = f_4(u)"
   ]
  },
  {
   "cell_type": "code",
   "execution_count": 21,
   "metadata": {
    "colab": {
     "base_uri": "https://localhost:8080/",
     "height": 368
    },
    "colab_type": "code",
    "id": "RlYZSjkdPX6k",
    "outputId": "3cb655d2-7180-4eea-c266-b505d1d076fb"
   },
   "outputs": [
    {
     "name": "stdout",
     "output_type": "stream",
     "text": [
      "Model: \"model\"\n",
      "__________________________________________________________________________________________________\n",
      "Layer (type)                    Output Shape         Param #     Connected to                     \n",
      "==================================================================================================\n",
      "input_2 (InputLayer)            [(None, 784)]        0                                            \n",
      "__________________________________________________________________________________________________\n",
      "dense_4 (Dense)                 (None, 512)          401920      input_2[0][0]                    \n",
      "__________________________________________________________________________________________________\n",
      "dense_5 (Dense)                 (None, 256)          131328      dense_4[0][0]                    \n",
      "__________________________________________________________________________________________________\n",
      "dense_6 (Dense)                 (None, 128)          65664       dense_4[0][0]                    \n",
      "__________________________________________________________________________________________________\n",
      "concatenate (Concatenate)       (None, 384)          0           dense_5[0][0]                    \n",
      "                                                                 dense_6[0][0]                    \n",
      "__________________________________________________________________________________________________\n",
      "dense_7 (Dense)                 (None, 10)           3850        concatenate[0][0]                \n",
      "==================================================================================================\n",
      "Total params: 602,762\n",
      "Trainable params: 602,762\n",
      "Non-trainable params: 0\n",
      "__________________________________________________________________________________________________\n"
     ]
    }
   ],
   "source": [
    "# try to connect the input and I have setted above\n",
    "model = Model(x,y)\n",
    "model.summary()"
   ]
  },
  {
   "cell_type": "code",
   "execution_count": 0,
   "metadata": {
    "colab": {},
    "colab_type": "code",
    "id": "TuXJ-OMwPdcU"
   },
   "outputs": [],
   "source": [
    "model.compile(loss='mse', optimizer='adam', metrics=['accuracy'])"
   ]
  },
  {
   "cell_type": "code",
   "execution_count": 23,
   "metadata": {
    "colab": {
     "base_uri": "https://localhost:8080/",
     "height": 368
    },
    "colab_type": "code",
    "id": "h0XI2FzjPnUL",
    "outputId": "544b9b3d-4d20-48a6-9778-7fead9ed9776"
   },
   "outputs": [
    {
     "name": "stdout",
     "output_type": "stream",
     "text": [
      "Epoch 1/10\n",
      "235/235 [==============================] - 4s 19ms/step - loss: 0.0127 - accuracy: 0.9156\n",
      "Epoch 2/10\n",
      "235/235 [==============================] - 4s 19ms/step - loss: 0.0050 - accuracy: 0.9687\n",
      "Epoch 3/10\n",
      "235/235 [==============================] - 4s 19ms/step - loss: 0.0034 - accuracy: 0.9782\n",
      "Epoch 4/10\n",
      "235/235 [==============================] - 4s 18ms/step - loss: 0.0026 - accuracy: 0.9844\n",
      "Epoch 5/10\n",
      "235/235 [==============================] - 4s 18ms/step - loss: 0.0021 - accuracy: 0.9873\n",
      "Epoch 6/10\n",
      "235/235 [==============================] - 4s 18ms/step - loss: 0.0017 - accuracy: 0.9894\n",
      "Epoch 7/10\n",
      "235/235 [==============================] - 4s 19ms/step - loss: 0.0014 - accuracy: 0.9915\n",
      "Epoch 8/10\n",
      "235/235 [==============================] - 4s 18ms/step - loss: 0.0011 - accuracy: 0.9930\n",
      "Epoch 9/10\n",
      "235/235 [==============================] - 4s 19ms/step - loss: 0.0011 - accuracy: 0.9936\n",
      "Epoch 10/10\n",
      "235/235 [==============================] - 4s 19ms/step - loss: 8.8094e-04 - accuracy: 0.9948\n"
     ]
    },
    {
     "data": {
      "text/plain": [
       "<tensorflow.python.keras.callbacks.History at 0x7fe3d821cac8>"
      ]
     },
     "execution_count": 23,
     "metadata": {
      "tags": []
     },
     "output_type": "execute_result"
    }
   ],
   "source": [
    "model.fit(x_train, y_train, batch_size=256, epochs=10)"
   ]
  },
  {
   "cell_type": "code",
   "execution_count": 24,
   "metadata": {
    "colab": {
     "base_uri": "https://localhost:8080/",
     "height": 50
    },
    "colab_type": "code",
    "id": "C_sskkELPuqu",
    "outputId": "bd70f932-f634-4805-988e-a948ec4e0509"
   },
   "outputs": [
    {
     "name": "stdout",
     "output_type": "stream",
     "text": [
      "1875/1875 [==============================] - 4s 2ms/step - loss: 7.8518e-04 - accuracy: 0.9954\n",
      "313/313 [==============================] - 1s 2ms/step - loss: 0.0032 - accuracy: 0.9790\n"
     ]
    }
   ],
   "source": [
    "score_train = model.evaluate(x_train, y_train)\n",
    "score_test = model.evaluate(x_test, y_test)"
   ]
  },
  {
   "cell_type": "code",
   "execution_count": 25,
   "metadata": {
    "colab": {
     "base_uri": "https://localhost:8080/",
     "height": 50
    },
    "colab_type": "code",
    "id": "0WnCsCxdSUOr",
    "outputId": "028f404e-765f-4e7b-ad9e-1813752dc96d"
   },
   "outputs": [
    {
     "name": "stdout",
     "output_type": "stream",
     "text": [
      "the correctness of the training data: 99.54333305358887\n",
      "the correctness of the testing data: 97.89999723434448\n"
     ]
    }
   ],
   "source": [
    "print(f\"the correctness of the training data: {score_train[1]*100}\")\n",
    "print(f\"the correctness of the testing data: {score_test[1]*100}\")"
   ]
  },
  {
   "cell_type": "markdown",
   "metadata": {},
   "source": [
    "![title](img/function_api.jpg)"
   ]
  },
  {
   "cell_type": "code",
   "execution_count": null,
   "metadata": {},
   "outputs": [],
   "source": []
  }
 ],
 "metadata": {
  "colab": {
   "name": "Functional API",
   "provenance": []
  },
  "kernelspec": {
   "display_name": "Python 3",
   "language": "python",
   "name": "python3"
  },
  "language_info": {
   "codemirror_mode": {
    "name": "ipython",
    "version": 3
   },
   "file_extension": ".py",
   "mimetype": "text/x-python",
   "name": "python",
   "nbconvert_exporter": "python",
   "pygments_lexer": "ipython3",
   "version": "3.7.6"
  }
 },
 "nbformat": 4,
 "nbformat_minor": 1
}
