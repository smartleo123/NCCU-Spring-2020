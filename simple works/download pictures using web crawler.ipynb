{
 "cells": [
  {
   "cell_type": "code",
   "execution_count": null,
   "metadata": {},
   "outputs": [],
   "source": [
    "import requests , os\n",
    "from bs4 import BeautifulSoup\n",
    "from urllib.request import urlopen\n",
    "\n",
    "url = input(\"給我網址，為了研究用途: \")\n",
    "\n",
    "html = requests.get(url)\n",
    "html.encoding = \"utf-8\"\n",
    "\n",
    "sp = BeautifulSoup(html.text, 'html.parser')\n",
    "\n",
    "#build images directory to store pictures\n",
    "\n",
    "images_dir = \"images/\"\n",
    "if not os.path.exists(images_dir):\n",
    "    os.mkdir(images_dir)\n",
    "    \n",
    "#取得所有 <a> 和 <img> 標籤\n",
    "all_links = sp.find_all(['a', 'img'])\n",
    "for link in all_links:\n",
    "    #讀取 src 和 href 屬性內容\n",
    "    src = link.get('src')\n",
    "    href = link.get('href')\n",
    "    attrs = [src , href]\n",
    "    for attr in attrs:\n",
    "        #讀取 .jpg 和 .png 檔\n",
    "        if attr != None and ('.jpg' in attr or '.png' in attr):\n",
    "            #設定圖檔完整路徑\n",
    "            full_path = attr\n",
    "            filename = full_path.split('/')[-1] #取得圖檔名\n",
    "            print(full_path)\n",
    "            #儲存圖片\n",
    "            try:\n",
    "                image = urlopen(full_path)\n",
    "                f = open(os.path.join(images_dir,filename),'wb')\n",
    "                f.write(image.read())\n",
    "                f.close()\n",
    "            except:\n",
    "                print(\"{} 無法讀取 !\".format(filename))\n",
    "        "
   ]
  },
  {
   "cell_type": "code",
   "execution_count": null,
   "metadata": {},
   "outputs": [],
   "source": []
  }
 ],
 "metadata": {
  "kernelspec": {
   "display_name": "Python 3",
   "language": "python",
   "name": "python3"
  },
  "language_info": {
   "codemirror_mode": {
    "name": "ipython",
    "version": 3
   },
   "file_extension": ".py",
   "mimetype": "text/x-python",
   "name": "python",
   "nbconvert_exporter": "python",
   "pygments_lexer": "ipython3",
   "version": "3.7.1"
  }
 },
 "nbformat": 4,
 "nbformat_minor": 4
}
