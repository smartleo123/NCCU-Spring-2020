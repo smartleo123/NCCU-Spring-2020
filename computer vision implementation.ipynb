{
 "cells": [
  {
   "cell_type": "code",
   "execution_count": 1,
   "metadata": {},
   "outputs": [
    {
     "name": "stdout",
     "output_type": "stream",
     "text": [
      "please input the image: yuzusoft\n"
     ]
    }
   ],
   "source": [
    "import cv2\n",
    "cv2.namedWindow(\"show my wife in color\")\n",
    "cv2.namedWindow(\"show my wife in black & white\")\n",
    "img_in = str(input(\"please input the image: \"))\n",
    "\n",
    "image1 = cv2.imread(\"images\\\\%s.jpg\"  %img_in , 1) #彩色\n",
    "image2 = cv2.imread(\"images\\\\%s.jpg\"  %img_in , cv2.IMREAD_GRAYSCALE) #黑白\n",
    "cv2.imshow(\"show my wife in color\" , image1)\n",
    "cv2.imshow(\"show my wife in black & white\" , image2)\n",
    "cv2.waitKey(0)\n",
    "cv2.destroyAllWindows()"
   ]
  },
  {
   "cell_type": "code",
   "execution_count": null,
   "metadata": {},
   "outputs": [],
   "source": []
  }
 ],
 "metadata": {
  "kernelspec": {
   "display_name": "Python 3",
   "language": "python",
   "name": "python3"
  },
  "language_info": {
   "codemirror_mode": {
    "name": "ipython",
    "version": 3
   },
   "file_extension": ".py",
   "mimetype": "text/x-python",
   "name": "python",
   "nbconvert_exporter": "python",
   "pygments_lexer": "ipython3",
   "version": "3.7.1"
  }
 },
 "nbformat": 4,
 "nbformat_minor": 4
}
