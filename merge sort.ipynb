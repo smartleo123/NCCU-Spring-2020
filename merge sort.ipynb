{
 "cells": [
  {
   "cell_type": "code",
   "execution_count": 7,
   "metadata": {},
   "outputs": [
    {
     "data": {
      "text/plain": [
       "[4, 7, 8, 9, 11]"
      ]
     },
     "execution_count": 7,
     "metadata": {},
     "output_type": "execute_result"
    }
   ],
   "source": [
    "def merge_sort(x):\n",
    "    \n",
    "    result = []\n",
    "    if len(x) < 2:\n",
    "        return x\n",
    "    \n",
    "    # it is the most important part of the algorithm\n",
    "    # That is I will separate the list from the middle and \n",
    "    # apply divide and conquer (recursion) strategy to implement\n",
    "    # this algorithm\n",
    "    \n",
    "    mid = int(len(x)/2)\n",
    "    y = merge_sort(x[:mid]) # y stands for the left side of the list\n",
    "    z = merge_sort(x[mid:]) # z stands for the right side of the list\n",
    "    \n",
    "    while (len(y) > 0) or (len(z) > 0):\n",
    "        if len(y) > 0 and len(z) > 0:\n",
    "            if y[0] > z[0]:\n",
    "                result.append(z[0])\n",
    "                z.pop(0)\n",
    "            else:\n",
    "                result.append(y[0])\n",
    "                y.pop(0)\n",
    "        \n",
    "        elif len(z) > 0:\n",
    "            for i in z:\n",
    "                result.append(i)\n",
    "                z.pop(0)\n",
    "        else:\n",
    "            for i in y:\n",
    "                result.append(i)\n",
    "                y.pop(0)\n",
    "    \n",
    "    return result\n",
    "\n",
    "arr = [11, 9, 4, 8, 7]\n",
    "merge_sort(arr)"
   ]
  },
  {
   "cell_type": "code",
   "execution_count": null,
   "metadata": {},
   "outputs": [],
   "source": []
  }
 ],
 "metadata": {
  "kernelspec": {
   "display_name": "Python 3",
   "language": "python",
   "name": "python3"
  },
  "language_info": {
   "codemirror_mode": {
    "name": "ipython",
    "version": 3
   },
   "file_extension": ".py",
   "mimetype": "text/x-python",
   "name": "python",
   "nbconvert_exporter": "python",
   "pygments_lexer": "ipython3",
   "version": "3.7.6"
  }
 },
 "nbformat": 4,
 "nbformat_minor": 4
}
