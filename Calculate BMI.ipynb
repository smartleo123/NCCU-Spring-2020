{
 "cells": [
  {
   "cell_type": "code",
   "execution_count": 1,
   "metadata": {},
   "outputs": [
    {
     "name": "stdout",
     "output_type": "stream",
     "text": [
      "please input your weight(kg) 87\n",
      "please input your height(cm): 173\n",
      "BMI is 29.07\n",
      "Overweight\n"
     ]
    }
   ],
   "source": [
    "#formula:weight(kg)/(height(meters))**2\n",
    "\n",
    "\n",
    "weight = eval(input(\"please input your weight(kg) \"))\n",
    "height = eval(input(\"please input your height(cm): \"))\n",
    "\n",
    "#calculate BMI\n",
    "weightInKilograms = weight\n",
    "heightInMeters = height / 100\n",
    "bmi = weightInKilograms / ( heightInMeters ** 2 )\n",
    "\n",
    "#print out the outcome\n",
    "print(\"BMI is\", format(bmi, \".2f\"))\n",
    "if bmi < 18.5:\n",
    "    print(\"Underweight\")\n",
    "elif bmi < 25:\n",
    "    print(\"Normal\")\n",
    "elif bmi < 30:\n",
    "    print(\"Overweight\")\n",
    "else:\n",
    "    print(\"Obese\")"
   ]
  },
  {
   "cell_type": "code",
   "execution_count": null,
   "metadata": {},
   "outputs": [],
   "source": []
  }
 ],
 "metadata": {
  "kernelspec": {
   "display_name": "Python 3",
   "language": "python",
   "name": "python3"
  },
  "language_info": {
   "codemirror_mode": {
    "name": "ipython",
    "version": 3
   },
   "file_extension": ".py",
   "mimetype": "text/x-python",
   "name": "python",
   "nbconvert_exporter": "python",
   "pygments_lexer": "ipython3",
   "version": "3.7.6"
  }
 },
 "nbformat": 4,
 "nbformat_minor": 4
}
